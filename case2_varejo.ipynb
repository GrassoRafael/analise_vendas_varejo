{
 "cells": [
  {
   "cell_type": "markdown",
   "metadata": {},
   "source": [
    "![Enunciado do case](enunciado.jpg)"
   ]
  },
  {
   "cell_type": "code",
   "execution_count": 4,
   "metadata": {},
   "outputs": [],
   "source": [
    "# importando bibliotecas\n",
    "import pandas as pd\n",
    "import seaborn as sns\n",
    "import matplotlib.pyplot as plt\n",
    "import chart_studio.plotly as py\n",
    "import cufflinks as cf\n",
    "import plotly.graph_objects as go\n",
    "import plotly.express as px\n"
   ]
  },
  {
   "cell_type": "code",
   "execution_count": 5,
   "metadata": {},
   "outputs": [
    {
     "data": {
      "text/html": [
       "<div>\n",
       "<style scoped>\n",
       "    .dataframe tbody tr th:only-of-type {\n",
       "        vertical-align: middle;\n",
       "    }\n",
       "\n",
       "    .dataframe tbody tr th {\n",
       "        vertical-align: top;\n",
       "    }\n",
       "\n",
       "    .dataframe thead th {\n",
       "        text-align: right;\n",
       "    }\n",
       "</style>\n",
       "<table border=\"1\" class=\"dataframe\">\n",
       "  <thead>\n",
       "    <tr style=\"text-align: right;\">\n",
       "      <th></th>\n",
       "      <th>idcompra</th>\n",
       "      <th>idcanalvenda</th>\n",
       "      <th>bandeira</th>\n",
       "      <th>Data</th>\n",
       "      <th>Preço</th>\n",
       "      <th>Preço_com_frete</th>\n",
       "      <th>Nome_Departamento</th>\n",
       "      <th>estado</th>\n",
       "      <th>cliente_Log</th>\n",
       "    </tr>\n",
       "  </thead>\n",
       "  <tbody>\n",
       "    <tr>\n",
       "      <th>0</th>\n",
       "      <td>393835</td>\n",
       "      <td>Mobile</td>\n",
       "      <td>A</td>\n",
       "      <td>2023-03-05</td>\n",
       "      <td>1582.560</td>\n",
       "      <td>791.280</td>\n",
       "      <td>Telefones e Celulares</td>\n",
       "      <td>SP</td>\n",
       "      <td>15042</td>\n",
       "    </tr>\n",
       "    <tr>\n",
       "      <th>1</th>\n",
       "      <td>411885</td>\n",
       "      <td>Mobile</td>\n",
       "      <td>A</td>\n",
       "      <td>2023-03-17</td>\n",
       "      <td>679.200</td>\n",
       "      <td>679.200</td>\n",
       "      <td>Tablets</td>\n",
       "      <td>SP</td>\n",
       "      <td>17590</td>\n",
       "    </tr>\n",
       "    <tr>\n",
       "      <th>2</th>\n",
       "      <td>437305</td>\n",
       "      <td>Mobile</td>\n",
       "      <td>A</td>\n",
       "      <td>2023-03-06</td>\n",
       "      <td>35.920</td>\n",
       "      <td>37.512</td>\n",
       "      <td>Bebes</td>\n",
       "      <td>SP</td>\n",
       "      <td>15478</td>\n",
       "    </tr>\n",
       "    <tr>\n",
       "      <th>3</th>\n",
       "      <td>440055</td>\n",
       "      <td>APP</td>\n",
       "      <td>A</td>\n",
       "      <td>2023-01-13</td>\n",
       "      <td>2239.416</td>\n",
       "      <td>2239.416</td>\n",
       "      <td>TVs e Acessorios</td>\n",
       "      <td>SP</td>\n",
       "      <td>2933</td>\n",
       "    </tr>\n",
       "    <tr>\n",
       "      <th>4</th>\n",
       "      <td>455795</td>\n",
       "      <td>Mobile</td>\n",
       "      <td>B</td>\n",
       "      <td>2023-03-31</td>\n",
       "      <td>1743.200</td>\n",
       "      <td>1785.112</td>\n",
       "      <td>Esporte e Lazer</td>\n",
       "      <td>RS</td>\n",
       "      <td>19790</td>\n",
       "    </tr>\n",
       "  </tbody>\n",
       "</table>\n",
       "</div>"
      ],
      "text/plain": [
       "   idcompra idcanalvenda bandeira  ...      Nome_Departamento  estado  cliente_Log\n",
       "0    393835       Mobile        A  ...  Telefones e Celulares      SP        15042\n",
       "1    411885       Mobile        A  ...                Tablets      SP        17590\n",
       "2    437305       Mobile        A  ...                  Bebes      SP        15478\n",
       "3    440055          APP        A  ...       TVs e Acessorios      SP         2933\n",
       "4    455795       Mobile        B  ...        Esporte e Lazer      RS        19790\n",
       "\n",
       "[5 rows x 9 columns]"
      ]
     },
     "execution_count": 5,
     "metadata": {},
     "output_type": "execute_result"
    }
   ],
   "source": [
    "# Importando banco de dados\n",
    "vendas = pd.read_excel('varejo.xlsx')\n",
    "vendas.head()\n"
   ]
  },
  {
   "cell_type": "code",
   "execution_count": 6,
   "metadata": {},
   "outputs": [
    {
     "name": "stdout",
     "output_type": "stream",
     "text": [
      "<class 'pandas.core.frame.DataFrame'>\n",
      "RangeIndex: 80228 entries, 0 to 80227\n",
      "Data columns (total 9 columns):\n",
      " #   Column             Non-Null Count  Dtype         \n",
      "---  ------             --------------  -----         \n",
      " 0   idcompra           80228 non-null  int64         \n",
      " 1   idcanalvenda       80228 non-null  object        \n",
      " 2   bandeira           80228 non-null  object        \n",
      " 3   Data               80228 non-null  datetime64[ns]\n",
      " 4   Preço              79926 non-null  float64       \n",
      " 5   Preço_com_frete    80228 non-null  float64       \n",
      " 6   Nome_Departamento  80228 non-null  object        \n",
      " 7   estado             79926 non-null  object        \n",
      " 8   cliente_Log        80228 non-null  int64         \n",
      "dtypes: datetime64[ns](1), float64(2), int64(2), object(4)\n",
      "memory usage: 5.5+ MB\n"
     ]
    }
   ],
   "source": [
    "# Explorando dados\n",
    "vendas.info()\n"
   ]
  },
  {
   "cell_type": "code",
   "execution_count": 7,
   "metadata": {},
   "outputs": [
    {
     "data": {
      "text/plain": [
       "idcanalvenda\n",
       "APP             139\n",
       "Aplicativo    21425\n",
       "Internet      24515\n",
       "Mobile        24732\n",
       "Name: idcompra, dtype: int64"
      ]
     },
     "execution_count": 7,
     "metadata": {},
     "output_type": "execute_result"
    }
   ],
   "source": [
    "# Agrupando e entendo melhor a diferença dos dados\n",
    "vendas.groupby('idcanalvenda').idcompra.nunique()\n"
   ]
  },
  {
   "cell_type": "code",
   "execution_count": 8,
   "metadata": {},
   "outputs": [
    {
     "data": {
      "text/plain": [
       "idcanalvendas\n",
       "Aplicativo    21539\n",
       "Internet      24515\n",
       "Mobile        24732\n",
       "Name: idcompra, dtype: int64"
      ]
     },
     "execution_count": 8,
     "metadata": {},
     "output_type": "execute_result"
    }
   ],
   "source": [
    "# Substituindo valores da coluna idcanalvenda\n",
    "vendas['idcanalvendas'] = vendas['idcanalvenda'].str.replace('APP', 'Aplicativo')\n",
    "vendas.groupby('idcanalvendas').idcompra.nunique()\n"
   ]
  },
  {
   "cell_type": "code",
   "execution_count": 9,
   "metadata": {},
   "outputs": [
    {
     "data": {
      "text/plain": [
       "bandeira\n",
       "A    27679\n",
       "B    38483\n",
       "Name: idcompra, dtype: int64"
      ]
     },
     "execution_count": 9,
     "metadata": {},
     "output_type": "execute_result"
    }
   ],
   "source": [
    "# Agrupando e entendendo valores de bandeira\n",
    "vendas.groupby('bandeira').idcompra.nunique()\n"
   ]
  },
  {
   "cell_type": "code",
   "execution_count": 10,
   "metadata": {},
   "outputs": [
    {
     "data": {
      "text/plain": [
       "Nome_Departamento\n",
       "Acessorios e Inovacoes     3548\n",
       "Alimentos                     2\n",
       "Ar e Ventilacao             951\n",
       "Audio                      1794\n",
       "Automotivo                  895\n",
       "Bebes                      4531\n",
       "Beleza e Saude             4626\n",
       "Brinquedos                 1320\n",
       "Cama, Mesa e Banho          153\n",
       "Casa e Construcao           263\n",
       "Cine e Foto                  11\n",
       "Decoracao                   134\n",
       "Eletrodomesticos          10501\n",
       "Eletroportateis            9593\n",
       "Esporte e Lazer             531\n",
       "Ferramentas                1111\n",
       "Games                       764\n",
       "Informatica                5290\n",
       "Instrumentos Musicais         1\n",
       "Linha Industrial             86\n",
       "Malas e Mochilas            114\n",
       "Moda                          3\n",
       "Moveis                     4175\n",
       "Perfumaria                  624\n",
       "Pet Shop                     43\n",
       "Produtos de Limpeza         713\n",
       "Relogios                    134\n",
       "TV e Video                    5\n",
       "TVs e Acessorios           5326\n",
       "Tablets                    1770\n",
       "Telefones e Celulares     14495\n",
       "Utilidades Domesticas      3728\n",
       "Name: idcompra, dtype: int64"
      ]
     },
     "execution_count": 10,
     "metadata": {},
     "output_type": "execute_result"
    }
   ],
   "source": [
    "# Agrupando e entendendo valores por nome do departamento\n",
    "vendas.groupby('Nome_Departamento').idcompra.nunique()\n"
   ]
  },
  {
   "cell_type": "code",
   "execution_count": 11,
   "metadata": {},
   "outputs": [
    {
     "data": {
      "text/plain": [
       "estado\n",
       "AC       10\n",
       "AL      461\n",
       "AM       15\n",
       "AP        3\n",
       "BA     2028\n",
       "CE     1007\n",
       "DF     1902\n",
       "ES     1254\n",
       "GO     1603\n",
       "MA      129\n",
       "MG    10538\n",
       "MT      510\n",
       "PA      108\n",
       "PB      536\n",
       "PE     1632\n",
       "PI      247\n",
       "PR     2754\n",
       "RJ    16213\n",
       "RN      463\n",
       "RO       15\n",
       "RR        7\n",
       "RS     4099\n",
       "SC     1932\n",
       "SE      340\n",
       "SP    25962\n",
       "TO      101\n",
       "Name: idcompra, dtype: int64"
      ]
     },
     "execution_count": 11,
     "metadata": {},
     "output_type": "execute_result"
    }
   ],
   "source": [
    "# Agrupando e entendendo valores por estado\n",
    "vendas.groupby('estado').idcompra.nunique()\n"
   ]
  },
  {
   "cell_type": "code",
   "execution_count": 12,
   "metadata": {},
   "outputs": [
    {
     "data": {
      "text/plain": [
       "Nome_Departamento\n",
       "Acessorios_e_Inovacoes     3548\n",
       "Alimentos                     2\n",
       "Ar_e_Ventilacao             951\n",
       "Audio                      1794\n",
       "Automotivo                  895\n",
       "Bebes                      4531\n",
       "Beleza_e_Saude             4626\n",
       "Brinquedos                 1320\n",
       "Cama,_Mesa_e_Banho          153\n",
       "Casa_e_Construcao           263\n",
       "Cine_e_Foto                  11\n",
       "Decoracao                   134\n",
       "Eletrodomesticos          10501\n",
       "Eletroportateis            9593\n",
       "Esporte_e_Lazer             531\n",
       "Ferramentas                1111\n",
       "Games                       764\n",
       "Informatica                5290\n",
       "Instrumentos_Musicais         1\n",
       "Linha_Industrial             86\n",
       "Malas_e_Mochilas            114\n",
       "Moda                          3\n",
       "Moveis                     4175\n",
       "Perfumaria                  624\n",
       "Pet_Shop                     43\n",
       "Produtos_de_Limpeza         713\n",
       "Relogios                    134\n",
       "TV_e_Video                    5\n",
       "TVs_e_Acessorios           5326\n",
       "Tablets                    1770\n",
       "Telefones_e_Celulares     14495\n",
       "Utilidades_Domesticas      3728\n",
       "Name: idcompra, dtype: int64"
      ]
     },
     "execution_count": 12,
     "metadata": {},
     "output_type": "execute_result"
    }
   ],
   "source": [
    "# Removendo espaços entre as palavras da coluna nome departamento\n",
    "vendas['Nome_Departamento'] = vendas['Nome_Departamento'].str.replace(' ', '_')\n",
    "vendas.groupby('Nome_Departamento').idcompra.nunique()\n"
   ]
  },
  {
   "cell_type": "code",
   "execution_count": 13,
   "metadata": {},
   "outputs": [
    {
     "data": {
      "text/html": [
       "<div>\n",
       "<style scoped>\n",
       "    .dataframe tbody tr th:only-of-type {\n",
       "        vertical-align: middle;\n",
       "    }\n",
       "\n",
       "    .dataframe tbody tr th {\n",
       "        vertical-align: top;\n",
       "    }\n",
       "\n",
       "    .dataframe thead th {\n",
       "        text-align: right;\n",
       "    }\n",
       "</style>\n",
       "<table border=\"1\" class=\"dataframe\">\n",
       "  <thead>\n",
       "    <tr style=\"text-align: right;\">\n",
       "      <th></th>\n",
       "      <th>idcompra</th>\n",
       "      <th>idcanalvenda</th>\n",
       "      <th>bandeira</th>\n",
       "      <th>Data</th>\n",
       "      <th>Preço</th>\n",
       "      <th>Preço_com_frete</th>\n",
       "      <th>Nome_Departamento</th>\n",
       "      <th>estado</th>\n",
       "      <th>cliente_Log</th>\n",
       "      <th>idcanalvendas</th>\n",
       "    </tr>\n",
       "  </thead>\n",
       "  <tbody>\n",
       "    <tr>\n",
       "      <th>96</th>\n",
       "      <td>382380</td>\n",
       "      <td>Internet</td>\n",
       "      <td>A</td>\n",
       "      <td>2023-04-26</td>\n",
       "      <td>NaN</td>\n",
       "      <td>879.200</td>\n",
       "      <td>Telefones_e_Celulares</td>\n",
       "      <td>NaN</td>\n",
       "      <td>5804</td>\n",
       "      <td>Internet</td>\n",
       "    </tr>\n",
       "    <tr>\n",
       "      <th>284</th>\n",
       "      <td>346055</td>\n",
       "      <td>Internet</td>\n",
       "      <td>A</td>\n",
       "      <td>2023-03-23</td>\n",
       "      <td>NaN</td>\n",
       "      <td>87.648</td>\n",
       "      <td>Ar_e_Ventilacao</td>\n",
       "      <td>NaN</td>\n",
       "      <td>16359</td>\n",
       "      <td>Internet</td>\n",
       "    </tr>\n",
       "    <tr>\n",
       "      <th>402</th>\n",
       "      <td>172555</td>\n",
       "      <td>Mobile</td>\n",
       "      <td>A</td>\n",
       "      <td>2023-03-19</td>\n",
       "      <td>NaN</td>\n",
       "      <td>135.840</td>\n",
       "      <td>Ar_e_Ventilacao</td>\n",
       "      <td>NaN</td>\n",
       "      <td>13691</td>\n",
       "      <td>Mobile</td>\n",
       "    </tr>\n",
       "    <tr>\n",
       "      <th>411</th>\n",
       "      <td>446380</td>\n",
       "      <td>Mobile</td>\n",
       "      <td>A</td>\n",
       "      <td>2023-03-09</td>\n",
       "      <td>NaN</td>\n",
       "      <td>1703.120</td>\n",
       "      <td>Eletrodomesticos</td>\n",
       "      <td>NaN</td>\n",
       "      <td>13024</td>\n",
       "      <td>Mobile</td>\n",
       "    </tr>\n",
       "    <tr>\n",
       "      <th>770</th>\n",
       "      <td>40425</td>\n",
       "      <td>Mobile</td>\n",
       "      <td>B</td>\n",
       "      <td>2023-04-21</td>\n",
       "      <td>NaN</td>\n",
       "      <td>1759.200</td>\n",
       "      <td>Telefones_e_Celulares</td>\n",
       "      <td>NaN</td>\n",
       "      <td>9121</td>\n",
       "      <td>Mobile</td>\n",
       "    </tr>\n",
       "    <tr>\n",
       "      <th>...</th>\n",
       "      <td>...</td>\n",
       "      <td>...</td>\n",
       "      <td>...</td>\n",
       "      <td>...</td>\n",
       "      <td>...</td>\n",
       "      <td>...</td>\n",
       "      <td>...</td>\n",
       "      <td>...</td>\n",
       "      <td>...</td>\n",
       "      <td>...</td>\n",
       "    </tr>\n",
       "    <tr>\n",
       "      <th>78610</th>\n",
       "      <td>399680</td>\n",
       "      <td>Aplicativo</td>\n",
       "      <td>A</td>\n",
       "      <td>2023-04-19</td>\n",
       "      <td>NaN</td>\n",
       "      <td>339.912</td>\n",
       "      <td>Eletroportateis</td>\n",
       "      <td>NaN</td>\n",
       "      <td>20873</td>\n",
       "      <td>Aplicativo</td>\n",
       "    </tr>\n",
       "    <tr>\n",
       "      <th>78718</th>\n",
       "      <td>320895</td>\n",
       "      <td>Mobile</td>\n",
       "      <td>B</td>\n",
       "      <td>2023-01-20</td>\n",
       "      <td>NaN</td>\n",
       "      <td>1000.800</td>\n",
       "      <td>Telefones_e_Celulares</td>\n",
       "      <td>NaN</td>\n",
       "      <td>17772</td>\n",
       "      <td>Mobile</td>\n",
       "    </tr>\n",
       "    <tr>\n",
       "      <th>79465</th>\n",
       "      <td>389240</td>\n",
       "      <td>Aplicativo</td>\n",
       "      <td>A</td>\n",
       "      <td>2023-01-14</td>\n",
       "      <td>NaN</td>\n",
       "      <td>279.200</td>\n",
       "      <td>Eletrodomesticos</td>\n",
       "      <td>NaN</td>\n",
       "      <td>20399</td>\n",
       "      <td>Aplicativo</td>\n",
       "    </tr>\n",
       "    <tr>\n",
       "      <th>79548</th>\n",
       "      <td>124585</td>\n",
       "      <td>Mobile</td>\n",
       "      <td>A</td>\n",
       "      <td>2023-04-21</td>\n",
       "      <td>NaN</td>\n",
       "      <td>2051.240</td>\n",
       "      <td>TVs_e_Acessorios</td>\n",
       "      <td>NaN</td>\n",
       "      <td>17784</td>\n",
       "      <td>Mobile</td>\n",
       "    </tr>\n",
       "    <tr>\n",
       "      <th>80016</th>\n",
       "      <td>104235</td>\n",
       "      <td>Aplicativo</td>\n",
       "      <td>A</td>\n",
       "      <td>2023-04-17</td>\n",
       "      <td>NaN</td>\n",
       "      <td>1199.200</td>\n",
       "      <td>Telefones_e_Celulares</td>\n",
       "      <td>NaN</td>\n",
       "      <td>21315</td>\n",
       "      <td>Aplicativo</td>\n",
       "    </tr>\n",
       "  </tbody>\n",
       "</table>\n",
       "<p>302 rows × 10 columns</p>\n",
       "</div>"
      ],
      "text/plain": [
       "       idcompra idcanalvenda bandeira  ... estado  cliente_Log  idcanalvendas\n",
       "96       382380     Internet        A  ...    NaN         5804       Internet\n",
       "284      346055     Internet        A  ...    NaN        16359       Internet\n",
       "402      172555       Mobile        A  ...    NaN        13691         Mobile\n",
       "411      446380       Mobile        A  ...    NaN        13024         Mobile\n",
       "770       40425       Mobile        B  ...    NaN         9121         Mobile\n",
       "...         ...          ...      ...  ...    ...          ...            ...\n",
       "78610    399680   Aplicativo        A  ...    NaN        20873     Aplicativo\n",
       "78718    320895       Mobile        B  ...    NaN        17772         Mobile\n",
       "79465    389240   Aplicativo        A  ...    NaN        20399     Aplicativo\n",
       "79548    124585       Mobile        A  ...    NaN        17784         Mobile\n",
       "80016    104235   Aplicativo        A  ...    NaN        21315     Aplicativo\n",
       "\n",
       "[302 rows x 10 columns]"
      ]
     },
     "execution_count": 13,
     "metadata": {},
     "output_type": "execute_result"
    }
   ],
   "source": [
    "# Identificando dados Nulos\n",
    "vendas[vendas['estado'].isnull()]\n"
   ]
  },
  {
   "cell_type": "code",
   "execution_count": 14,
   "metadata": {},
   "outputs": [
    {
     "name": "stdout",
     "output_type": "stream",
     "text": [
      "<class 'pandas.core.frame.DataFrame'>\n",
      "Index: 79926 entries, 0 to 80227\n",
      "Data columns (total 10 columns):\n",
      " #   Column             Non-Null Count  Dtype         \n",
      "---  ------             --------------  -----         \n",
      " 0   idcompra           79926 non-null  int64         \n",
      " 1   idcanalvenda       79926 non-null  object        \n",
      " 2   bandeira           79926 non-null  object        \n",
      " 3   Data               79926 non-null  datetime64[ns]\n",
      " 4   Preço              79926 non-null  float64       \n",
      " 5   Preço_com_frete    79926 non-null  float64       \n",
      " 6   Nome_Departamento  79926 non-null  object        \n",
      " 7   estado             79926 non-null  object        \n",
      " 8   cliente_Log        79926 non-null  int64         \n",
      " 9   idcanalvendas      79926 non-null  object        \n",
      "dtypes: datetime64[ns](1), float64(2), int64(2), object(5)\n",
      "memory usage: 6.7+ MB\n"
     ]
    }
   ],
   "source": [
    "# Eliminando as linhas com dados nulos\n",
    "vendas_sem_nulos = vendas.dropna()\n",
    "vendas_sem_nulos.info()\n"
   ]
  },
  {
   "cell_type": "code",
   "execution_count": 15,
   "metadata": {},
   "outputs": [
    {
     "name": "stdout",
     "output_type": "stream",
     "text": [
      "<class 'pandas.core.frame.DataFrame'>\n",
      "RangeIndex: 80228 entries, 0 to 80227\n",
      "Data columns (total 10 columns):\n",
      " #   Column             Non-Null Count  Dtype         \n",
      "---  ------             --------------  -----         \n",
      " 0   idcompra           80228 non-null  int64         \n",
      " 1   idcanalvenda       80228 non-null  object        \n",
      " 2   bandeira           80228 non-null  object        \n",
      " 3   Data               80228 non-null  datetime64[ns]\n",
      " 4   Preço              79926 non-null  float64       \n",
      " 5   Preço_com_frete    80228 non-null  float64       \n",
      " 6   Nome_Departamento  80228 non-null  object        \n",
      " 7   estado             80228 non-null  object        \n",
      " 8   cliente_Log        80228 non-null  int64         \n",
      " 9   idcanalvendas      80228 non-null  object        \n",
      "dtypes: datetime64[ns](1), float64(2), int64(2), object(5)\n",
      "memory usage: 6.1+ MB\n"
     ]
    }
   ],
   "source": [
    "# Substituindo valores nulos do estado por MS, como o enunciado\n",
    "vendas['estado'].fillna('MS', inplace=True)\n",
    "vendas.info()\n"
   ]
  },
  {
   "cell_type": "code",
   "execution_count": 16,
   "metadata": {},
   "outputs": [
    {
     "name": "stdout",
     "output_type": "stream",
     "text": [
      "<class 'pandas.core.frame.DataFrame'>\n",
      "RangeIndex: 80228 entries, 0 to 80227\n",
      "Data columns (total 10 columns):\n",
      " #   Column             Non-Null Count  Dtype         \n",
      "---  ------             --------------  -----         \n",
      " 0   idcompra           80228 non-null  int64         \n",
      " 1   idcanalvenda       80228 non-null  object        \n",
      " 2   bandeira           80228 non-null  object        \n",
      " 3   Data               80228 non-null  datetime64[ns]\n",
      " 4   Preço              80228 non-null  float64       \n",
      " 5   Preço_com_frete    80228 non-null  float64       \n",
      " 6   Nome_Departamento  80228 non-null  object        \n",
      " 7   estado             80228 non-null  object        \n",
      " 8   cliente_Log        80228 non-null  int64         \n",
      " 9   idcanalvendas      80228 non-null  object        \n",
      "dtypes: datetime64[ns](1), float64(2), int64(2), object(5)\n",
      "memory usage: 6.1+ MB\n"
     ]
    }
   ],
   "source": [
    "# Substituindo os valores nulos de preço pela média de preço\n",
    "media_preço = vendas['Preço'].mean()\n",
    "\n",
    "vendas['Preço'].fillna(media_preço, inplace=True)\n",
    "vendas.info()"
   ]
  },
  {
   "cell_type": "code",
   "execution_count": 17,
   "metadata": {},
   "outputs": [
    {
     "data": {
      "text/plain": [
       "532.448"
      ]
     },
     "execution_count": 17,
     "metadata": {},
     "output_type": "execute_result"
    }
   ],
   "source": [
    "# Mediana de preço\n",
    "mediana_preco = vendas['Preço'].median()\n",
    "mediana_preco\n"
   ]
  },
  {
   "cell_type": "code",
   "execution_count": 18,
   "metadata": {},
   "outputs": [
    {
     "data": {
      "text/html": [
       "<div>\n",
       "<style scoped>\n",
       "    .dataframe tbody tr th:only-of-type {\n",
       "        vertical-align: middle;\n",
       "    }\n",
       "\n",
       "    .dataframe tbody tr th {\n",
       "        vertical-align: top;\n",
       "    }\n",
       "\n",
       "    .dataframe thead th {\n",
       "        text-align: right;\n",
       "    }\n",
       "</style>\n",
       "<table border=\"1\" class=\"dataframe\">\n",
       "  <thead>\n",
       "    <tr style=\"text-align: right;\">\n",
       "      <th></th>\n",
       "      <th>Preço</th>\n",
       "      <th>Preço_com_frete</th>\n",
       "    </tr>\n",
       "  </thead>\n",
       "  <tbody>\n",
       "    <tr>\n",
       "      <th>count</th>\n",
       "      <td>80228.000000</td>\n",
       "      <td>80228.000000</td>\n",
       "    </tr>\n",
       "    <tr>\n",
       "      <th>mean</th>\n",
       "      <td>906.589129</td>\n",
       "      <td>908.619823</td>\n",
       "    </tr>\n",
       "    <tr>\n",
       "      <th>std</th>\n",
       "      <td>1057.611490</td>\n",
       "      <td>1057.583101</td>\n",
       "    </tr>\n",
       "    <tr>\n",
       "      <th>min</th>\n",
       "      <td>6.320000</td>\n",
       "      <td>6.320000</td>\n",
       "    </tr>\n",
       "    <tr>\n",
       "      <th>25%</th>\n",
       "      <td>147.920000</td>\n",
       "      <td>150.706000</td>\n",
       "    </tr>\n",
       "    <tr>\n",
       "      <th>50%</th>\n",
       "      <td>532.448000</td>\n",
       "      <td>535.120000</td>\n",
       "    </tr>\n",
       "    <tr>\n",
       "      <th>75%</th>\n",
       "      <td>1199.200000</td>\n",
       "      <td>1215.240000</td>\n",
       "    </tr>\n",
       "    <tr>\n",
       "      <th>max</th>\n",
       "      <td>14439.240000</td>\n",
       "      <td>14439.240000</td>\n",
       "    </tr>\n",
       "  </tbody>\n",
       "</table>\n",
       "</div>"
      ],
      "text/plain": [
       "              Preço  Preço_com_frete\n",
       "count  80228.000000     80228.000000\n",
       "mean     906.589129       908.619823\n",
       "std     1057.611490      1057.583101\n",
       "min        6.320000         6.320000\n",
       "25%      147.920000       150.706000\n",
       "50%      532.448000       535.120000\n",
       "75%     1199.200000      1215.240000\n",
       "max    14439.240000     14439.240000"
      ]
     },
     "execution_count": 18,
     "metadata": {},
     "output_type": "execute_result"
    }
   ],
   "source": [
    "# Descrição dos dados\n",
    "vendas[['Preço', 'Preço_com_frete']].describe()\n"
   ]
  },
  {
   "cell_type": "code",
   "execution_count": 19,
   "metadata": {},
   "outputs": [
    {
     "data": {
      "text/html": [
       "<div>\n",
       "<style scoped>\n",
       "    .dataframe tbody tr th:only-of-type {\n",
       "        vertical-align: middle;\n",
       "    }\n",
       "\n",
       "    .dataframe tbody tr th {\n",
       "        vertical-align: top;\n",
       "    }\n",
       "\n",
       "    .dataframe thead th {\n",
       "        text-align: right;\n",
       "    }\n",
       "</style>\n",
       "<table border=\"1\" class=\"dataframe\">\n",
       "  <thead>\n",
       "    <tr style=\"text-align: right;\">\n",
       "      <th></th>\n",
       "      <th>idcompra</th>\n",
       "      <th>idcanalvenda</th>\n",
       "      <th>bandeira</th>\n",
       "      <th>Data</th>\n",
       "      <th>Preço</th>\n",
       "      <th>Preço_com_frete</th>\n",
       "      <th>Nome_Departamento</th>\n",
       "      <th>estado</th>\n",
       "      <th>cliente_Log</th>\n",
       "      <th>idcanalvendas</th>\n",
       "    </tr>\n",
       "  </thead>\n",
       "  <tbody>\n",
       "    <tr>\n",
       "      <th>2</th>\n",
       "      <td>437305</td>\n",
       "      <td>Mobile</td>\n",
       "      <td>A</td>\n",
       "      <td>2023-03-06</td>\n",
       "      <td>35.92</td>\n",
       "      <td>37.512</td>\n",
       "      <td>Bebes</td>\n",
       "      <td>SP</td>\n",
       "      <td>15478</td>\n",
       "      <td>Mobile</td>\n",
       "    </tr>\n",
       "    <tr>\n",
       "      <th>4</th>\n",
       "      <td>455795</td>\n",
       "      <td>Mobile</td>\n",
       "      <td>B</td>\n",
       "      <td>2023-03-31</td>\n",
       "      <td>1743.20</td>\n",
       "      <td>1785.112</td>\n",
       "      <td>Esporte_e_Lazer</td>\n",
       "      <td>RS</td>\n",
       "      <td>19790</td>\n",
       "      <td>Mobile</td>\n",
       "    </tr>\n",
       "    <tr>\n",
       "      <th>8</th>\n",
       "      <td>75525</td>\n",
       "      <td>Mobile</td>\n",
       "      <td>B</td>\n",
       "      <td>2023-02-19</td>\n",
       "      <td>679.20</td>\n",
       "      <td>695.120</td>\n",
       "      <td>Moveis</td>\n",
       "      <td>SP</td>\n",
       "      <td>3442</td>\n",
       "      <td>Mobile</td>\n",
       "    </tr>\n",
       "    <tr>\n",
       "      <th>19</th>\n",
       "      <td>258580</td>\n",
       "      <td>Mobile</td>\n",
       "      <td>A</td>\n",
       "      <td>2023-03-27</td>\n",
       "      <td>107.76</td>\n",
       "      <td>109.344</td>\n",
       "      <td>Bebes</td>\n",
       "      <td>ES</td>\n",
       "      <td>7662</td>\n",
       "      <td>Mobile</td>\n",
       "    </tr>\n",
       "    <tr>\n",
       "      <th>22</th>\n",
       "      <td>306675</td>\n",
       "      <td>Mobile</td>\n",
       "      <td>B</td>\n",
       "      <td>2023-02-17</td>\n",
       "      <td>471.20</td>\n",
       "      <td>511.120</td>\n",
       "      <td>Eletrodomesticos</td>\n",
       "      <td>RJ</td>\n",
       "      <td>15060</td>\n",
       "      <td>Mobile</td>\n",
       "    </tr>\n",
       "    <tr>\n",
       "      <th>...</th>\n",
       "      <td>...</td>\n",
       "      <td>...</td>\n",
       "      <td>...</td>\n",
       "      <td>...</td>\n",
       "      <td>...</td>\n",
       "      <td>...</td>\n",
       "      <td>...</td>\n",
       "      <td>...</td>\n",
       "      <td>...</td>\n",
       "      <td>...</td>\n",
       "    </tr>\n",
       "    <tr>\n",
       "      <th>80023</th>\n",
       "      <td>351250</td>\n",
       "      <td>Internet</td>\n",
       "      <td>B</td>\n",
       "      <td>2023-01-29</td>\n",
       "      <td>661.68</td>\n",
       "      <td>676.736</td>\n",
       "      <td>Telefones_e_Celulares</td>\n",
       "      <td>SP</td>\n",
       "      <td>11429</td>\n",
       "      <td>Internet</td>\n",
       "    </tr>\n",
       "    <tr>\n",
       "      <th>80069</th>\n",
       "      <td>362035</td>\n",
       "      <td>Mobile</td>\n",
       "      <td>A</td>\n",
       "      <td>2023-04-25</td>\n",
       "      <td>95.92</td>\n",
       "      <td>101.600</td>\n",
       "      <td>Beleza_e_Saude</td>\n",
       "      <td>SP</td>\n",
       "      <td>26</td>\n",
       "      <td>Mobile</td>\n",
       "    </tr>\n",
       "    <tr>\n",
       "      <th>80090</th>\n",
       "      <td>466615</td>\n",
       "      <td>Internet</td>\n",
       "      <td>B</td>\n",
       "      <td>2023-03-30</td>\n",
       "      <td>735.20</td>\n",
       "      <td>750.256</td>\n",
       "      <td>Telefones_e_Celulares</td>\n",
       "      <td>SP</td>\n",
       "      <td>3128</td>\n",
       "      <td>Internet</td>\n",
       "    </tr>\n",
       "    <tr>\n",
       "      <th>80104</th>\n",
       "      <td>335120</td>\n",
       "      <td>Aplicativo</td>\n",
       "      <td>B</td>\n",
       "      <td>2023-04-17</td>\n",
       "      <td>55.92</td>\n",
       "      <td>60.776</td>\n",
       "      <td>Beleza_e_Saude</td>\n",
       "      <td>RJ</td>\n",
       "      <td>13206</td>\n",
       "      <td>Aplicativo</td>\n",
       "    </tr>\n",
       "    <tr>\n",
       "      <th>80194</th>\n",
       "      <td>376985</td>\n",
       "      <td>Internet</td>\n",
       "      <td>B</td>\n",
       "      <td>2023-02-10</td>\n",
       "      <td>661.68</td>\n",
       "      <td>676.736</td>\n",
       "      <td>Telefones_e_Celulares</td>\n",
       "      <td>RJ</td>\n",
       "      <td>5400</td>\n",
       "      <td>Internet</td>\n",
       "    </tr>\n",
       "  </tbody>\n",
       "</table>\n",
       "<p>22047 rows × 10 columns</p>\n",
       "</div>"
      ],
      "text/plain": [
       "       idcompra idcanalvenda bandeira  ... estado  cliente_Log  idcanalvendas\n",
       "2        437305       Mobile        A  ...     SP        15478         Mobile\n",
       "4        455795       Mobile        B  ...     RS        19790         Mobile\n",
       "8         75525       Mobile        B  ...     SP         3442         Mobile\n",
       "19       258580       Mobile        A  ...     ES         7662         Mobile\n",
       "22       306675       Mobile        B  ...     RJ        15060         Mobile\n",
       "...         ...          ...      ...  ...    ...          ...            ...\n",
       "80023    351250     Internet        B  ...     SP        11429       Internet\n",
       "80069    362035       Mobile        A  ...     SP           26         Mobile\n",
       "80090    466615     Internet        B  ...     SP         3128       Internet\n",
       "80104    335120   Aplicativo        B  ...     RJ        13206     Aplicativo\n",
       "80194    376985     Internet        B  ...     RJ         5400       Internet\n",
       "\n",
       "[22047 rows x 10 columns]"
      ]
     },
     "execution_count": 19,
     "metadata": {},
     "output_type": "execute_result"
    }
   ],
   "source": [
    "# Filtros para categorizar os preços que são menores do que o preço com frete\n",
    "preco_errado = vendas.query(\"Preço > Preço_com_frete\")\n",
    "\n",
    "vendas_correto = vendas.query(\"Preço < Preço_com_frete\")\n",
    "vendas_correto"
   ]
  },
  {
   "cell_type": "code",
   "execution_count": 20,
   "metadata": {},
   "outputs": [
    {
     "data": {
      "text/html": [
       "<div>\n",
       "<style scoped>\n",
       "    .dataframe tbody tr th:only-of-type {\n",
       "        vertical-align: middle;\n",
       "    }\n",
       "\n",
       "    .dataframe tbody tr th {\n",
       "        vertical-align: top;\n",
       "    }\n",
       "\n",
       "    .dataframe thead th {\n",
       "        text-align: right;\n",
       "    }\n",
       "</style>\n",
       "<table border=\"1\" class=\"dataframe\">\n",
       "  <thead>\n",
       "    <tr style=\"text-align: right;\">\n",
       "      <th></th>\n",
       "      <th>idcompra</th>\n",
       "      <th>Data</th>\n",
       "      <th>Preço</th>\n",
       "      <th>Preço_com_frete</th>\n",
       "      <th>cliente_Log</th>\n",
       "    </tr>\n",
       "  </thead>\n",
       "  <tbody>\n",
       "    <tr>\n",
       "      <th>count</th>\n",
       "      <td>22047.000000</td>\n",
       "      <td>22047</td>\n",
       "      <td>22047.000000</td>\n",
       "      <td>22047.000000</td>\n",
       "      <td>22047.000000</td>\n",
       "    </tr>\n",
       "    <tr>\n",
       "      <th>mean</th>\n",
       "      <td>253799.955550</td>\n",
       "      <td>2023-03-02 05:19:31.261395968</td>\n",
       "      <td>549.518401</td>\n",
       "      <td>567.332688</td>\n",
       "      <td>13856.313013</td>\n",
       "    </tr>\n",
       "    <tr>\n",
       "      <th>min</th>\n",
       "      <td>25.000000</td>\n",
       "      <td>2023-01-02 00:00:00</td>\n",
       "      <td>8.720000</td>\n",
       "      <td>9.512000</td>\n",
       "      <td>1.000000</td>\n",
       "    </tr>\n",
       "    <tr>\n",
       "      <th>25%</th>\n",
       "      <td>127670.000000</td>\n",
       "      <td>2023-02-01 00:00:00</td>\n",
       "      <td>93.528000</td>\n",
       "      <td>100.800000</td>\n",
       "      <td>6858.000000</td>\n",
       "    </tr>\n",
       "    <tr>\n",
       "      <th>50%</th>\n",
       "      <td>257885.000000</td>\n",
       "      <td>2023-03-02 00:00:00</td>\n",
       "      <td>183.200000</td>\n",
       "      <td>193.912000</td>\n",
       "      <td>13845.000000</td>\n",
       "    </tr>\n",
       "    <tr>\n",
       "      <th>75%</th>\n",
       "      <td>379705.000000</td>\n",
       "      <td>2023-04-01 00:00:00</td>\n",
       "      <td>661.680000</td>\n",
       "      <td>676.736000</td>\n",
       "      <td>20801.000000</td>\n",
       "    </tr>\n",
       "    <tr>\n",
       "      <th>max</th>\n",
       "      <td>499960.000000</td>\n",
       "      <td>2023-04-30 00:00:00</td>\n",
       "      <td>14391.200000</td>\n",
       "      <td>14407.120000</td>\n",
       "      <td>27982.000000</td>\n",
       "    </tr>\n",
       "    <tr>\n",
       "      <th>std</th>\n",
       "      <td>144794.628563</td>\n",
       "      <td>NaN</td>\n",
       "      <td>846.295127</td>\n",
       "      <td>863.458763</td>\n",
       "      <td>8049.120135</td>\n",
       "    </tr>\n",
       "  </tbody>\n",
       "</table>\n",
       "</div>"
      ],
      "text/plain": [
       "            idcompra  ...   cliente_Log\n",
       "count   22047.000000  ...  22047.000000\n",
       "mean   253799.955550  ...  13856.313013\n",
       "min        25.000000  ...      1.000000\n",
       "25%    127670.000000  ...   6858.000000\n",
       "50%    257885.000000  ...  13845.000000\n",
       "75%    379705.000000  ...  20801.000000\n",
       "max    499960.000000  ...  27982.000000\n",
       "std    144794.628563  ...   8049.120135\n",
       "\n",
       "[8 rows x 5 columns]"
      ]
     },
     "execution_count": 20,
     "metadata": {},
     "output_type": "execute_result"
    }
   ],
   "source": [
    "# Descricão da nova base, com os preços corretos.\n",
    "vendas_correto.describe()\n"
   ]
  },
  {
   "cell_type": "code",
   "execution_count": 21,
   "metadata": {},
   "outputs": [
    {
     "data": {
      "text/html": [
       "<div>\n",
       "<style scoped>\n",
       "    .dataframe tbody tr th:only-of-type {\n",
       "        vertical-align: middle;\n",
       "    }\n",
       "\n",
       "    .dataframe tbody tr th {\n",
       "        vertical-align: top;\n",
       "    }\n",
       "\n",
       "    .dataframe thead th {\n",
       "        text-align: right;\n",
       "    }\n",
       "</style>\n",
       "<table border=\"1\" class=\"dataframe\">\n",
       "  <thead>\n",
       "    <tr style=\"text-align: right;\">\n",
       "      <th></th>\n",
       "      <th>idcompra</th>\n",
       "      <th>Data</th>\n",
       "      <th>Preço</th>\n",
       "      <th>Preço_com_frete</th>\n",
       "      <th>cliente_Log</th>\n",
       "    </tr>\n",
       "  </thead>\n",
       "  <tbody>\n",
       "    <tr>\n",
       "      <th>count</th>\n",
       "      <td>168.000000</td>\n",
       "      <td>168</td>\n",
       "      <td>168.000000</td>\n",
       "      <td>168.00000</td>\n",
       "      <td>168.000000</td>\n",
       "    </tr>\n",
       "    <tr>\n",
       "      <th>mean</th>\n",
       "      <td>265130.744048</td>\n",
       "      <td>2023-03-05 23:51:25.714285824</td>\n",
       "      <td>1070.083095</td>\n",
       "      <td>1098.71319</td>\n",
       "      <td>14368.571429</td>\n",
       "    </tr>\n",
       "    <tr>\n",
       "      <th>min</th>\n",
       "      <td>2145.000000</td>\n",
       "      <td>2023-01-02 00:00:00</td>\n",
       "      <td>10.896000</td>\n",
       "      <td>16.11200</td>\n",
       "      <td>210.000000</td>\n",
       "    </tr>\n",
       "    <tr>\n",
       "      <th>25%</th>\n",
       "      <td>157955.000000</td>\n",
       "      <td>2023-02-03 18:00:00</td>\n",
       "      <td>527.200000</td>\n",
       "      <td>545.32000</td>\n",
       "      <td>7717.500000</td>\n",
       "    </tr>\n",
       "    <tr>\n",
       "      <th>50%</th>\n",
       "      <td>253702.500000</td>\n",
       "      <td>2023-03-07 00:00:00</td>\n",
       "      <td>1108.008000</td>\n",
       "      <td>1136.24800</td>\n",
       "      <td>15281.000000</td>\n",
       "    </tr>\n",
       "    <tr>\n",
       "      <th>75%</th>\n",
       "      <td>380616.250000</td>\n",
       "      <td>2023-04-09 00:00:00</td>\n",
       "      <td>1599.200000</td>\n",
       "      <td>1618.88400</td>\n",
       "      <td>20538.000000</td>\n",
       "    </tr>\n",
       "    <tr>\n",
       "      <th>max</th>\n",
       "      <td>496910.000000</td>\n",
       "      <td>2023-04-30 00:00:00</td>\n",
       "      <td>2399.200000</td>\n",
       "      <td>2432.74400</td>\n",
       "      <td>27837.000000</td>\n",
       "    </tr>\n",
       "    <tr>\n",
       "      <th>std</th>\n",
       "      <td>140435.252208</td>\n",
       "      <td>NaN</td>\n",
       "      <td>617.138494</td>\n",
       "      <td>620.66244</td>\n",
       "      <td>7890.233136</td>\n",
       "    </tr>\n",
       "  </tbody>\n",
       "</table>\n",
       "</div>"
      ],
      "text/plain": [
       "            idcompra  ...   cliente_Log\n",
       "count     168.000000  ...    168.000000\n",
       "mean   265130.744048  ...  14368.571429\n",
       "min      2145.000000  ...    210.000000\n",
       "25%    157955.000000  ...   7717.500000\n",
       "50%    253702.500000  ...  15281.000000\n",
       "75%    380616.250000  ...  20538.000000\n",
       "max    496910.000000  ...  27837.000000\n",
       "std    140435.252208  ...   7890.233136\n",
       "\n",
       "[8 rows x 5 columns]"
      ]
     },
     "execution_count": 21,
     "metadata": {},
     "output_type": "execute_result"
    }
   ],
   "source": [
    "# Filtrando nome de departamento e estado\n",
    "vendas_correto.query(\"Nome_Departamento == 'Esporte_e_Lazer' and estado == \"\n",
    "                     \"'SP'\").describe()"
   ]
  },
  {
   "cell_type": "code",
   "execution_count": 22,
   "metadata": {},
   "outputs": [
    {
     "data": {
      "text/html": [
       "<div>\n",
       "<style scoped>\n",
       "    .dataframe tbody tr th:only-of-type {\n",
       "        vertical-align: middle;\n",
       "    }\n",
       "\n",
       "    .dataframe tbody tr th {\n",
       "        vertical-align: top;\n",
       "    }\n",
       "\n",
       "    .dataframe thead th {\n",
       "        text-align: right;\n",
       "    }\n",
       "</style>\n",
       "<table border=\"1\" class=\"dataframe\">\n",
       "  <thead>\n",
       "    <tr style=\"text-align: right;\">\n",
       "      <th></th>\n",
       "      <th>Nome_Departamento</th>\n",
       "      <th>idcompra</th>\n",
       "    </tr>\n",
       "  </thead>\n",
       "  <tbody>\n",
       "    <tr>\n",
       "      <th>0</th>\n",
       "      <td>Bebes</td>\n",
       "      <td>4353</td>\n",
       "    </tr>\n",
       "    <tr>\n",
       "      <th>1</th>\n",
       "      <td>Eletrodomesticos</td>\n",
       "      <td>4201</td>\n",
       "    </tr>\n",
       "    <tr>\n",
       "      <th>2</th>\n",
       "      <td>Eletroportateis</td>\n",
       "      <td>2223</td>\n",
       "    </tr>\n",
       "    <tr>\n",
       "      <th>3</th>\n",
       "      <td>Moveis</td>\n",
       "      <td>2036</td>\n",
       "    </tr>\n",
       "    <tr>\n",
       "      <th>4</th>\n",
       "      <td>Utilidades_Domesticas</td>\n",
       "      <td>1366</td>\n",
       "    </tr>\n",
       "    <tr>\n",
       "      <th>5</th>\n",
       "      <td>Acessorios_e_Inovacoes</td>\n",
       "      <td>1243</td>\n",
       "    </tr>\n",
       "    <tr>\n",
       "      <th>6</th>\n",
       "      <td>Beleza_e_Saude</td>\n",
       "      <td>1054</td>\n",
       "    </tr>\n",
       "    <tr>\n",
       "      <th>7</th>\n",
       "      <td>Brinquedos</td>\n",
       "      <td>686</td>\n",
       "    </tr>\n",
       "    <tr>\n",
       "      <th>8</th>\n",
       "      <td>Perfumaria</td>\n",
       "      <td>563</td>\n",
       "    </tr>\n",
       "    <tr>\n",
       "      <th>9</th>\n",
       "      <td>Produtos_de_Limpeza</td>\n",
       "      <td>522</td>\n",
       "    </tr>\n",
       "    <tr>\n",
       "      <th>10</th>\n",
       "      <td>Telefones_e_Celulares</td>\n",
       "      <td>493</td>\n",
       "    </tr>\n",
       "    <tr>\n",
       "      <th>11</th>\n",
       "      <td>Automotivo</td>\n",
       "      <td>457</td>\n",
       "    </tr>\n",
       "    <tr>\n",
       "      <th>12</th>\n",
       "      <td>Esporte_e_Lazer</td>\n",
       "      <td>446</td>\n",
       "    </tr>\n",
       "    <tr>\n",
       "      <th>13</th>\n",
       "      <td>Audio</td>\n",
       "      <td>374</td>\n",
       "    </tr>\n",
       "    <tr>\n",
       "      <th>14</th>\n",
       "      <td>Ar_e_Ventilacao</td>\n",
       "      <td>337</td>\n",
       "    </tr>\n",
       "    <tr>\n",
       "      <th>15</th>\n",
       "      <td>Ferramentas</td>\n",
       "      <td>287</td>\n",
       "    </tr>\n",
       "    <tr>\n",
       "      <th>16</th>\n",
       "      <td>Informatica</td>\n",
       "      <td>284</td>\n",
       "    </tr>\n",
       "    <tr>\n",
       "      <th>17</th>\n",
       "      <td>Games</td>\n",
       "      <td>200</td>\n",
       "    </tr>\n",
       "    <tr>\n",
       "      <th>18</th>\n",
       "      <td>TVs_e_Acessorios</td>\n",
       "      <td>158</td>\n",
       "    </tr>\n",
       "    <tr>\n",
       "      <th>19</th>\n",
       "      <td>Decoracao</td>\n",
       "      <td>127</td>\n",
       "    </tr>\n",
       "    <tr>\n",
       "      <th>20</th>\n",
       "      <td>Malas_e_Mochilas</td>\n",
       "      <td>91</td>\n",
       "    </tr>\n",
       "    <tr>\n",
       "      <th>21</th>\n",
       "      <td>Cama,_Mesa_e_Banho</td>\n",
       "      <td>71</td>\n",
       "    </tr>\n",
       "    <tr>\n",
       "      <th>22</th>\n",
       "      <td>Tablets</td>\n",
       "      <td>64</td>\n",
       "    </tr>\n",
       "    <tr>\n",
       "      <th>23</th>\n",
       "      <td>Casa_e_Construcao</td>\n",
       "      <td>58</td>\n",
       "    </tr>\n",
       "    <tr>\n",
       "      <th>24</th>\n",
       "      <td>Relogios</td>\n",
       "      <td>45</td>\n",
       "    </tr>\n",
       "    <tr>\n",
       "      <th>25</th>\n",
       "      <td>Pet_Shop</td>\n",
       "      <td>40</td>\n",
       "    </tr>\n",
       "    <tr>\n",
       "      <th>26</th>\n",
       "      <td>Linha_Industrial</td>\n",
       "      <td>9</td>\n",
       "    </tr>\n",
       "    <tr>\n",
       "      <th>27</th>\n",
       "      <td>Cine_e_Foto</td>\n",
       "      <td>8</td>\n",
       "    </tr>\n",
       "    <tr>\n",
       "      <th>28</th>\n",
       "      <td>Moda</td>\n",
       "      <td>3</td>\n",
       "    </tr>\n",
       "    <tr>\n",
       "      <th>29</th>\n",
       "      <td>Alimentos</td>\n",
       "      <td>2</td>\n",
       "    </tr>\n",
       "    <tr>\n",
       "      <th>30</th>\n",
       "      <td>Instrumentos_Musicais</td>\n",
       "      <td>1</td>\n",
       "    </tr>\n",
       "  </tbody>\n",
       "</table>\n",
       "</div>"
      ],
      "text/plain": [
       "         Nome_Departamento  idcompra\n",
       "0                    Bebes      4353\n",
       "1         Eletrodomesticos      4201\n",
       "2          Eletroportateis      2223\n",
       "3                   Moveis      2036\n",
       "4    Utilidades_Domesticas      1366\n",
       "5   Acessorios_e_Inovacoes      1243\n",
       "6           Beleza_e_Saude      1054\n",
       "7               Brinquedos       686\n",
       "8               Perfumaria       563\n",
       "9      Produtos_de_Limpeza       522\n",
       "10   Telefones_e_Celulares       493\n",
       "11              Automotivo       457\n",
       "12         Esporte_e_Lazer       446\n",
       "13                   Audio       374\n",
       "14         Ar_e_Ventilacao       337\n",
       "15             Ferramentas       287\n",
       "16             Informatica       284\n",
       "17                   Games       200\n",
       "18        TVs_e_Acessorios       158\n",
       "19               Decoracao       127\n",
       "20        Malas_e_Mochilas        91\n",
       "21      Cama,_Mesa_e_Banho        71\n",
       "22                 Tablets        64\n",
       "23       Casa_e_Construcao        58\n",
       "24                Relogios        45\n",
       "25                Pet_Shop        40\n",
       "26        Linha_Industrial         9\n",
       "27             Cine_e_Foto         8\n",
       "28                    Moda         3\n",
       "29               Alimentos         2\n",
       "30   Instrumentos_Musicais         1"
      ]
     },
     "execution_count": 22,
     "metadata": {},
     "output_type": "execute_result"
    }
   ],
   "source": [
    "# Agrupamento de produtos mais vendidos, ordenado de maneira decrescente \n",
    "vendas_correto.groupby(\"Nome_Departamento\").idcompra.nunique().sort_values(\n",
    "    ascending=False).reset_index()\n"
   ]
  },
  {
   "cell_type": "code",
   "execution_count": 23,
   "metadata": {},
   "outputs": [
    {
     "data": {
      "text/html": [
       "<div>\n",
       "<style scoped>\n",
       "    .dataframe tbody tr th:only-of-type {\n",
       "        vertical-align: middle;\n",
       "    }\n",
       "\n",
       "    .dataframe tbody tr th {\n",
       "        vertical-align: top;\n",
       "    }\n",
       "\n",
       "    .dataframe thead th {\n",
       "        text-align: right;\n",
       "    }\n",
       "</style>\n",
       "<table border=\"1\" class=\"dataframe\">\n",
       "  <thead>\n",
       "    <tr style=\"text-align: right;\">\n",
       "      <th></th>\n",
       "      <th>Nome_Departamento</th>\n",
       "      <th>Preço_com_frete</th>\n",
       "    </tr>\n",
       "  </thead>\n",
       "  <tbody>\n",
       "    <tr>\n",
       "      <th>0</th>\n",
       "      <td>TVs_e_Acessorios</td>\n",
       "      <td>3469.38</td>\n",
       "    </tr>\n",
       "    <tr>\n",
       "      <th>1</th>\n",
       "      <td>Informatica</td>\n",
       "      <td>2159.78</td>\n",
       "    </tr>\n",
       "    <tr>\n",
       "      <th>2</th>\n",
       "      <td>Linha_Industrial</td>\n",
       "      <td>2027.11</td>\n",
       "    </tr>\n",
       "    <tr>\n",
       "      <th>3</th>\n",
       "      <td>Cine_e_Foto</td>\n",
       "      <td>1851.20</td>\n",
       "    </tr>\n",
       "    <tr>\n",
       "      <th>4</th>\n",
       "      <td>Telefones_e_Celulares</td>\n",
       "      <td>1442.19</td>\n",
       "    </tr>\n",
       "    <tr>\n",
       "      <th>5</th>\n",
       "      <td>Eletrodomesticos</td>\n",
       "      <td>1400.66</td>\n",
       "    </tr>\n",
       "    <tr>\n",
       "      <th>6</th>\n",
       "      <td>Esporte_e_Lazer</td>\n",
       "      <td>1123.14</td>\n",
       "    </tr>\n",
       "    <tr>\n",
       "      <th>7</th>\n",
       "      <td>Tablets</td>\n",
       "      <td>1100.23</td>\n",
       "    </tr>\n",
       "    <tr>\n",
       "      <th>8</th>\n",
       "      <td>Games</td>\n",
       "      <td>942.90</td>\n",
       "    </tr>\n",
       "    <tr>\n",
       "      <th>9</th>\n",
       "      <td>Instrumentos_Musicais</td>\n",
       "      <td>834.61</td>\n",
       "    </tr>\n",
       "    <tr>\n",
       "      <th>10</th>\n",
       "      <td>Automotivo</td>\n",
       "      <td>681.57</td>\n",
       "    </tr>\n",
       "    <tr>\n",
       "      <th>11</th>\n",
       "      <td>Moveis</td>\n",
       "      <td>541.03</td>\n",
       "    </tr>\n",
       "    <tr>\n",
       "      <th>12</th>\n",
       "      <td>Ar_e_Ventilacao</td>\n",
       "      <td>518.79</td>\n",
       "    </tr>\n",
       "    <tr>\n",
       "      <th>13</th>\n",
       "      <td>Audio</td>\n",
       "      <td>480.35</td>\n",
       "    </tr>\n",
       "    <tr>\n",
       "      <th>14</th>\n",
       "      <td>Casa_e_Construcao</td>\n",
       "      <td>433.53</td>\n",
       "    </tr>\n",
       "    <tr>\n",
       "      <th>15</th>\n",
       "      <td>Pet_Shop</td>\n",
       "      <td>237.26</td>\n",
       "    </tr>\n",
       "    <tr>\n",
       "      <th>16</th>\n",
       "      <td>Acessorios_e_Inovacoes</td>\n",
       "      <td>229.14</td>\n",
       "    </tr>\n",
       "    <tr>\n",
       "      <th>17</th>\n",
       "      <td>Eletroportateis</td>\n",
       "      <td>223.77</td>\n",
       "    </tr>\n",
       "    <tr>\n",
       "      <th>18</th>\n",
       "      <td>Ferramentas</td>\n",
       "      <td>217.59</td>\n",
       "    </tr>\n",
       "    <tr>\n",
       "      <th>19</th>\n",
       "      <td>Cama,_Mesa_e_Banho</td>\n",
       "      <td>210.70</td>\n",
       "    </tr>\n",
       "    <tr>\n",
       "      <th>20</th>\n",
       "      <td>Malas_e_Mochilas</td>\n",
       "      <td>194.26</td>\n",
       "    </tr>\n",
       "    <tr>\n",
       "      <th>21</th>\n",
       "      <td>Relogios</td>\n",
       "      <td>186.95</td>\n",
       "    </tr>\n",
       "    <tr>\n",
       "      <th>22</th>\n",
       "      <td>Brinquedos</td>\n",
       "      <td>176.45</td>\n",
       "    </tr>\n",
       "    <tr>\n",
       "      <th>23</th>\n",
       "      <td>Utilidades_Domesticas</td>\n",
       "      <td>155.02</td>\n",
       "    </tr>\n",
       "    <tr>\n",
       "      <th>24</th>\n",
       "      <td>Decoracao</td>\n",
       "      <td>144.50</td>\n",
       "    </tr>\n",
       "    <tr>\n",
       "      <th>25</th>\n",
       "      <td>Bebes</td>\n",
       "      <td>130.90</td>\n",
       "    </tr>\n",
       "    <tr>\n",
       "      <th>26</th>\n",
       "      <td>Beleza_e_Saude</td>\n",
       "      <td>119.59</td>\n",
       "    </tr>\n",
       "    <tr>\n",
       "      <th>27</th>\n",
       "      <td>Alimentos</td>\n",
       "      <td>104.24</td>\n",
       "    </tr>\n",
       "    <tr>\n",
       "      <th>28</th>\n",
       "      <td>Perfumaria</td>\n",
       "      <td>80.91</td>\n",
       "    </tr>\n",
       "    <tr>\n",
       "      <th>29</th>\n",
       "      <td>Produtos_de_Limpeza</td>\n",
       "      <td>68.79</td>\n",
       "    </tr>\n",
       "    <tr>\n",
       "      <th>30</th>\n",
       "      <td>Moda</td>\n",
       "      <td>47.01</td>\n",
       "    </tr>\n",
       "  </tbody>\n",
       "</table>\n",
       "</div>"
      ],
      "text/plain": [
       "         Nome_Departamento  Preço_com_frete\n",
       "0         TVs_e_Acessorios          3469.38\n",
       "1              Informatica          2159.78\n",
       "2         Linha_Industrial          2027.11\n",
       "3              Cine_e_Foto          1851.20\n",
       "4    Telefones_e_Celulares          1442.19\n",
       "5         Eletrodomesticos          1400.66\n",
       "6          Esporte_e_Lazer          1123.14\n",
       "7                  Tablets          1100.23\n",
       "8                    Games           942.90\n",
       "9    Instrumentos_Musicais           834.61\n",
       "10              Automotivo           681.57\n",
       "11                  Moveis           541.03\n",
       "12         Ar_e_Ventilacao           518.79\n",
       "13                   Audio           480.35\n",
       "14       Casa_e_Construcao           433.53\n",
       "15                Pet_Shop           237.26\n",
       "16  Acessorios_e_Inovacoes           229.14\n",
       "17         Eletroportateis           223.77\n",
       "18             Ferramentas           217.59\n",
       "19      Cama,_Mesa_e_Banho           210.70\n",
       "20        Malas_e_Mochilas           194.26\n",
       "21                Relogios           186.95\n",
       "22              Brinquedos           176.45\n",
       "23   Utilidades_Domesticas           155.02\n",
       "24               Decoracao           144.50\n",
       "25                   Bebes           130.90\n",
       "26          Beleza_e_Saude           119.59\n",
       "27               Alimentos           104.24\n",
       "28              Perfumaria            80.91\n",
       "29     Produtos_de_Limpeza            68.79\n",
       "30                    Moda            47.01"
      ]
     },
     "execution_count": 23,
     "metadata": {},
     "output_type": "execute_result"
    }
   ],
   "source": [
    "# Média de preço por departamento \n",
    "round(vendas_correto.groupby(\"Nome_Departamento\")[\"Preço_com_frete\"].agg(\n",
    "    \"mean\").sort_values(ascending=False).reset_index(), 2)\n"
   ]
  },
  {
   "cell_type": "code",
   "execution_count": 24,
   "metadata": {},
   "outputs": [
    {
     "data": {
      "text/html": [
       "<div>\n",
       "<style scoped>\n",
       "    .dataframe tbody tr th:only-of-type {\n",
       "        vertical-align: middle;\n",
       "    }\n",
       "\n",
       "    .dataframe tbody tr th {\n",
       "        vertical-align: top;\n",
       "    }\n",
       "\n",
       "    .dataframe thead th {\n",
       "        text-align: right;\n",
       "    }\n",
       "</style>\n",
       "<table border=\"1\" class=\"dataframe\">\n",
       "  <thead>\n",
       "    <tr style=\"text-align: right;\">\n",
       "      <th></th>\n",
       "      <th>Data</th>\n",
       "      <th>idcompra</th>\n",
       "    </tr>\n",
       "  </thead>\n",
       "  <tbody>\n",
       "    <tr>\n",
       "      <th>0</th>\n",
       "      <td>2023-02-13</td>\n",
       "      <td>226</td>\n",
       "    </tr>\n",
       "    <tr>\n",
       "      <th>1</th>\n",
       "      <td>2023-01-20</td>\n",
       "      <td>218</td>\n",
       "    </tr>\n",
       "    <tr>\n",
       "      <th>2</th>\n",
       "      <td>2023-03-07</td>\n",
       "      <td>215</td>\n",
       "    </tr>\n",
       "    <tr>\n",
       "      <th>3</th>\n",
       "      <td>2023-03-30</td>\n",
       "      <td>214</td>\n",
       "    </tr>\n",
       "    <tr>\n",
       "      <th>4</th>\n",
       "      <td>2023-02-20</td>\n",
       "      <td>214</td>\n",
       "    </tr>\n",
       "    <tr>\n",
       "      <th>...</th>\n",
       "      <td>...</td>\n",
       "      <td>...</td>\n",
       "    </tr>\n",
       "    <tr>\n",
       "      <th>114</th>\n",
       "      <td>2023-02-15</td>\n",
       "      <td>162</td>\n",
       "    </tr>\n",
       "    <tr>\n",
       "      <th>115</th>\n",
       "      <td>2023-04-04</td>\n",
       "      <td>162</td>\n",
       "    </tr>\n",
       "    <tr>\n",
       "      <th>116</th>\n",
       "      <td>2023-02-25</td>\n",
       "      <td>161</td>\n",
       "    </tr>\n",
       "    <tr>\n",
       "      <th>117</th>\n",
       "      <td>2023-02-22</td>\n",
       "      <td>156</td>\n",
       "    </tr>\n",
       "    <tr>\n",
       "      <th>118</th>\n",
       "      <td>2023-02-12</td>\n",
       "      <td>152</td>\n",
       "    </tr>\n",
       "  </tbody>\n",
       "</table>\n",
       "<p>119 rows × 2 columns</p>\n",
       "</div>"
      ],
      "text/plain": [
       "          Data  idcompra\n",
       "0   2023-02-13       226\n",
       "1   2023-01-20       218\n",
       "2   2023-03-07       215\n",
       "3   2023-03-30       214\n",
       "4   2023-02-20       214\n",
       "..         ...       ...\n",
       "114 2023-02-15       162\n",
       "115 2023-04-04       162\n",
       "116 2023-02-25       161\n",
       "117 2023-02-22       156\n",
       "118 2023-02-12       152\n",
       "\n",
       "[119 rows x 2 columns]"
      ]
     },
     "execution_count": 24,
     "metadata": {},
     "output_type": "execute_result"
    }
   ],
   "source": [
    "# Agrupando por quantidade de compras por data\n",
    "vendas_correto.groupby(\"Data\").idcompra.nunique().sort_values(\n",
    "    ascending=False).reset_index()"
   ]
  },
  {
   "cell_type": "code",
   "execution_count": 25,
   "metadata": {},
   "outputs": [
    {
     "data": {
      "text/html": [
       "<div>\n",
       "<style scoped>\n",
       "    .dataframe tbody tr th:only-of-type {\n",
       "        vertical-align: middle;\n",
       "    }\n",
       "\n",
       "    .dataframe tbody tr th {\n",
       "        vertical-align: top;\n",
       "    }\n",
       "\n",
       "    .dataframe thead th {\n",
       "        text-align: right;\n",
       "    }\n",
       "</style>\n",
       "<table border=\"1\" class=\"dataframe\">\n",
       "  <thead>\n",
       "    <tr style=\"text-align: right;\">\n",
       "      <th></th>\n",
       "      <th>idcompra</th>\n",
       "      <th>idcanalvenda</th>\n",
       "      <th>bandeira</th>\n",
       "      <th>Data</th>\n",
       "      <th>Preço</th>\n",
       "      <th>Preço_com_frete</th>\n",
       "      <th>Nome_Departamento</th>\n",
       "      <th>estado</th>\n",
       "      <th>cliente_Log</th>\n",
       "      <th>idcanalvendas</th>\n",
       "      <th>mes</th>\n",
       "    </tr>\n",
       "  </thead>\n",
       "  <tbody>\n",
       "    <tr>\n",
       "      <th>2</th>\n",
       "      <td>437305</td>\n",
       "      <td>Mobile</td>\n",
       "      <td>A</td>\n",
       "      <td>2023-03-06</td>\n",
       "      <td>35.92</td>\n",
       "      <td>37.512</td>\n",
       "      <td>Bebes</td>\n",
       "      <td>SP</td>\n",
       "      <td>15478</td>\n",
       "      <td>Mobile</td>\n",
       "      <td>3</td>\n",
       "    </tr>\n",
       "    <tr>\n",
       "      <th>4</th>\n",
       "      <td>455795</td>\n",
       "      <td>Mobile</td>\n",
       "      <td>B</td>\n",
       "      <td>2023-03-31</td>\n",
       "      <td>1743.20</td>\n",
       "      <td>1785.112</td>\n",
       "      <td>Esporte_e_Lazer</td>\n",
       "      <td>RS</td>\n",
       "      <td>19790</td>\n",
       "      <td>Mobile</td>\n",
       "      <td>3</td>\n",
       "    </tr>\n",
       "    <tr>\n",
       "      <th>8</th>\n",
       "      <td>75525</td>\n",
       "      <td>Mobile</td>\n",
       "      <td>B</td>\n",
       "      <td>2023-02-19</td>\n",
       "      <td>679.20</td>\n",
       "      <td>695.120</td>\n",
       "      <td>Moveis</td>\n",
       "      <td>SP</td>\n",
       "      <td>3442</td>\n",
       "      <td>Mobile</td>\n",
       "      <td>2</td>\n",
       "    </tr>\n",
       "    <tr>\n",
       "      <th>19</th>\n",
       "      <td>258580</td>\n",
       "      <td>Mobile</td>\n",
       "      <td>A</td>\n",
       "      <td>2023-03-27</td>\n",
       "      <td>107.76</td>\n",
       "      <td>109.344</td>\n",
       "      <td>Bebes</td>\n",
       "      <td>ES</td>\n",
       "      <td>7662</td>\n",
       "      <td>Mobile</td>\n",
       "      <td>3</td>\n",
       "    </tr>\n",
       "    <tr>\n",
       "      <th>22</th>\n",
       "      <td>306675</td>\n",
       "      <td>Mobile</td>\n",
       "      <td>B</td>\n",
       "      <td>2023-02-17</td>\n",
       "      <td>471.20</td>\n",
       "      <td>511.120</td>\n",
       "      <td>Eletrodomesticos</td>\n",
       "      <td>RJ</td>\n",
       "      <td>15060</td>\n",
       "      <td>Mobile</td>\n",
       "      <td>2</td>\n",
       "    </tr>\n",
       "  </tbody>\n",
       "</table>\n",
       "</div>"
      ],
      "text/plain": [
       "    idcompra idcanalvenda bandeira  ... cliente_Log  idcanalvendas  mes\n",
       "2     437305       Mobile        A  ...       15478         Mobile    3\n",
       "4     455795       Mobile        B  ...       19790         Mobile    3\n",
       "8      75525       Mobile        B  ...        3442         Mobile    2\n",
       "19    258580       Mobile        A  ...        7662         Mobile    3\n",
       "22    306675       Mobile        B  ...       15060         Mobile    2\n",
       "\n",
       "[5 rows x 11 columns]"
      ]
     },
     "execution_count": 25,
     "metadata": {},
     "output_type": "execute_result"
    }
   ],
   "source": [
    "# Extração do mês e criação de nova coluna\n",
    "vendas_correto[\"mes\"] = vendas_correto[\"Data\"].dt.month\n",
    "vendas_correto.head()"
   ]
  },
  {
   "cell_type": "code",
   "execution_count": 26,
   "metadata": {},
   "outputs": [
    {
     "data": {
      "text/plain": [
       "mes\n",
       "1    5309\n",
       "2    5138\n",
       "3    5590\n",
       "4    5454\n",
       "Name: idcompra, dtype: int64"
      ]
     },
     "execution_count": 26,
     "metadata": {},
     "output_type": "execute_result"
    }
   ],
   "source": [
    "# Contagem dos dados por mês\n",
    "vendas_correto.groupby(\"mes\").idcompra.nunique().sort_values(\n",
    "    ascending=False).sort_index()\n"
   ]
  },
  {
   "cell_type": "code",
   "execution_count": 27,
   "metadata": {},
   "outputs": [
    {
     "data": {
      "text/html": [
       "<div>\n",
       "<style scoped>\n",
       "    .dataframe tbody tr th:only-of-type {\n",
       "        vertical-align: middle;\n",
       "    }\n",
       "\n",
       "    .dataframe tbody tr th {\n",
       "        vertical-align: top;\n",
       "    }\n",
       "\n",
       "    .dataframe thead th {\n",
       "        text-align: right;\n",
       "    }\n",
       "</style>\n",
       "<table border=\"1\" class=\"dataframe\">\n",
       "  <thead>\n",
       "    <tr style=\"text-align: right;\">\n",
       "      <th></th>\n",
       "      <th>cliente_Log</th>\n",
       "      <th>idade</th>\n",
       "      <th>renda</th>\n",
       "    </tr>\n",
       "  </thead>\n",
       "  <tbody>\n",
       "    <tr>\n",
       "      <th>0</th>\n",
       "      <td>15042</td>\n",
       "      <td>89</td>\n",
       "      <td>11337</td>\n",
       "    </tr>\n",
       "    <tr>\n",
       "      <th>1</th>\n",
       "      <td>17590</td>\n",
       "      <td>54</td>\n",
       "      <td>2050</td>\n",
       "    </tr>\n",
       "    <tr>\n",
       "      <th>2</th>\n",
       "      <td>15478</td>\n",
       "      <td>47</td>\n",
       "      <td>8258</td>\n",
       "    </tr>\n",
       "    <tr>\n",
       "      <th>3</th>\n",
       "      <td>2933</td>\n",
       "      <td>39</td>\n",
       "      <td>4671</td>\n",
       "    </tr>\n",
       "    <tr>\n",
       "      <th>4</th>\n",
       "      <td>19790</td>\n",
       "      <td>26</td>\n",
       "      <td>9207</td>\n",
       "    </tr>\n",
       "  </tbody>\n",
       "</table>\n",
       "</div>"
      ],
      "text/plain": [
       "   cliente_Log  idade  renda\n",
       "0        15042     89  11337\n",
       "1        17590     54   2050\n",
       "2        15478     47   8258\n",
       "3         2933     39   4671\n",
       "4        19790     26   9207"
      ]
     },
     "execution_count": 27,
     "metadata": {},
     "output_type": "execute_result"
    }
   ],
   "source": [
    "# Importando a nova base\n",
    "cliente = pd.read_excel(\"cliente_varejo.xlsx\")\n",
    "cliente.head()"
   ]
  },
  {
   "cell_type": "code",
   "execution_count": 28,
   "metadata": {},
   "outputs": [
    {
     "data": {
      "text/html": [
       "<div>\n",
       "<style scoped>\n",
       "    .dataframe tbody tr th:only-of-type {\n",
       "        vertical-align: middle;\n",
       "    }\n",
       "\n",
       "    .dataframe tbody tr th {\n",
       "        vertical-align: top;\n",
       "    }\n",
       "\n",
       "    .dataframe thead th {\n",
       "        text-align: right;\n",
       "    }\n",
       "</style>\n",
       "<table border=\"1\" class=\"dataframe\">\n",
       "  <thead>\n",
       "    <tr style=\"text-align: right;\">\n",
       "      <th></th>\n",
       "      <th>idcompra</th>\n",
       "      <th>idcanalvenda</th>\n",
       "      <th>bandeira</th>\n",
       "      <th>Data</th>\n",
       "      <th>Preço</th>\n",
       "      <th>Preço_com_frete</th>\n",
       "      <th>Nome_Departamento</th>\n",
       "      <th>estado</th>\n",
       "      <th>cliente_Log</th>\n",
       "      <th>idcanalvendas</th>\n",
       "      <th>mes</th>\n",
       "    </tr>\n",
       "  </thead>\n",
       "  <tbody>\n",
       "    <tr>\n",
       "      <th>2</th>\n",
       "      <td>437305</td>\n",
       "      <td>Mobile</td>\n",
       "      <td>A</td>\n",
       "      <td>2023-03-06</td>\n",
       "      <td>35.92</td>\n",
       "      <td>37.512</td>\n",
       "      <td>Bebes</td>\n",
       "      <td>SP</td>\n",
       "      <td>15478</td>\n",
       "      <td>Mobile</td>\n",
       "      <td>3</td>\n",
       "    </tr>\n",
       "    <tr>\n",
       "      <th>4</th>\n",
       "      <td>455795</td>\n",
       "      <td>Mobile</td>\n",
       "      <td>B</td>\n",
       "      <td>2023-03-31</td>\n",
       "      <td>1743.20</td>\n",
       "      <td>1785.112</td>\n",
       "      <td>Esporte_e_Lazer</td>\n",
       "      <td>RS</td>\n",
       "      <td>19790</td>\n",
       "      <td>Mobile</td>\n",
       "      <td>3</td>\n",
       "    </tr>\n",
       "    <tr>\n",
       "      <th>8</th>\n",
       "      <td>75525</td>\n",
       "      <td>Mobile</td>\n",
       "      <td>B</td>\n",
       "      <td>2023-02-19</td>\n",
       "      <td>679.20</td>\n",
       "      <td>695.120</td>\n",
       "      <td>Moveis</td>\n",
       "      <td>SP</td>\n",
       "      <td>3442</td>\n",
       "      <td>Mobile</td>\n",
       "      <td>2</td>\n",
       "    </tr>\n",
       "    <tr>\n",
       "      <th>19</th>\n",
       "      <td>258580</td>\n",
       "      <td>Mobile</td>\n",
       "      <td>A</td>\n",
       "      <td>2023-03-27</td>\n",
       "      <td>107.76</td>\n",
       "      <td>109.344</td>\n",
       "      <td>Bebes</td>\n",
       "      <td>ES</td>\n",
       "      <td>7662</td>\n",
       "      <td>Mobile</td>\n",
       "      <td>3</td>\n",
       "    </tr>\n",
       "    <tr>\n",
       "      <th>22</th>\n",
       "      <td>306675</td>\n",
       "      <td>Mobile</td>\n",
       "      <td>B</td>\n",
       "      <td>2023-02-17</td>\n",
       "      <td>471.20</td>\n",
       "      <td>511.120</td>\n",
       "      <td>Eletrodomesticos</td>\n",
       "      <td>RJ</td>\n",
       "      <td>15060</td>\n",
       "      <td>Mobile</td>\n",
       "      <td>2</td>\n",
       "    </tr>\n",
       "  </tbody>\n",
       "</table>\n",
       "</div>"
      ],
      "text/plain": [
       "    idcompra idcanalvenda bandeira  ... cliente_Log  idcanalvendas  mes\n",
       "2     437305       Mobile        A  ...       15478         Mobile    3\n",
       "4     455795       Mobile        B  ...       19790         Mobile    3\n",
       "8      75525       Mobile        B  ...        3442         Mobile    2\n",
       "19    258580       Mobile        A  ...        7662         Mobile    3\n",
       "22    306675       Mobile        B  ...       15060         Mobile    2\n",
       "\n",
       "[5 rows x 11 columns]"
      ]
     },
     "execution_count": 28,
     "metadata": {},
     "output_type": "execute_result"
    }
   ],
   "source": [
    "# Visualização tabela de vendas corrata\n",
    "vendas_correto.head()"
   ]
  },
  {
   "cell_type": "code",
   "execution_count": 29,
   "metadata": {},
   "outputs": [
    {
     "data": {
      "text/html": [
       "<div>\n",
       "<style scoped>\n",
       "    .dataframe tbody tr th:only-of-type {\n",
       "        vertical-align: middle;\n",
       "    }\n",
       "\n",
       "    .dataframe tbody tr th {\n",
       "        vertical-align: top;\n",
       "    }\n",
       "\n",
       "    .dataframe thead th {\n",
       "        text-align: right;\n",
       "    }\n",
       "</style>\n",
       "<table border=\"1\" class=\"dataframe\">\n",
       "  <thead>\n",
       "    <tr style=\"text-align: right;\">\n",
       "      <th></th>\n",
       "      <th>idade</th>\n",
       "      <th>renda</th>\n",
       "    </tr>\n",
       "  </thead>\n",
       "  <tbody>\n",
       "    <tr>\n",
       "      <th>count</th>\n",
       "      <td>26425.00</td>\n",
       "      <td>26425.00</td>\n",
       "    </tr>\n",
       "    <tr>\n",
       "      <th>mean</th>\n",
       "      <td>53.41</td>\n",
       "      <td>8241.47</td>\n",
       "    </tr>\n",
       "    <tr>\n",
       "      <th>std</th>\n",
       "      <td>20.70</td>\n",
       "      <td>3899.87</td>\n",
       "    </tr>\n",
       "    <tr>\n",
       "      <th>min</th>\n",
       "      <td>18.00</td>\n",
       "      <td>1500.00</td>\n",
       "    </tr>\n",
       "    <tr>\n",
       "      <th>25%</th>\n",
       "      <td>35.00</td>\n",
       "      <td>4859.00</td>\n",
       "    </tr>\n",
       "    <tr>\n",
       "      <th>50%</th>\n",
       "      <td>53.00</td>\n",
       "      <td>8234.00</td>\n",
       "    </tr>\n",
       "    <tr>\n",
       "      <th>75%</th>\n",
       "      <td>71.00</td>\n",
       "      <td>11629.00</td>\n",
       "    </tr>\n",
       "    <tr>\n",
       "      <th>max</th>\n",
       "      <td>89.00</td>\n",
       "      <td>15000.00</td>\n",
       "    </tr>\n",
       "  </tbody>\n",
       "</table>\n",
       "</div>"
      ],
      "text/plain": [
       "          idade     renda\n",
       "count  26425.00  26425.00\n",
       "mean      53.41   8241.47\n",
       "std       20.70   3899.87\n",
       "min       18.00   1500.00\n",
       "25%       35.00   4859.00\n",
       "50%       53.00   8234.00\n",
       "75%       71.00  11629.00\n",
       "max       89.00  15000.00"
      ]
     },
     "execution_count": 29,
     "metadata": {},
     "output_type": "execute_result"
    }
   ],
   "source": [
    "# Descrevendo a tabela cliente varejo\n",
    "round(cliente[[\"idade\", \"renda\"]].describe(), 2)\n"
   ]
  },
  {
   "cell_type": "code",
   "execution_count": 30,
   "metadata": {},
   "outputs": [
    {
     "name": "stdout",
     "output_type": "stream",
     "text": [
      "<class 'pandas.core.frame.DataFrame'>\n",
      "RangeIndex: 26425 entries, 0 to 26424\n",
      "Data columns (total 3 columns):\n",
      " #   Column       Non-Null Count  Dtype\n",
      "---  ------       --------------  -----\n",
      " 0   cliente_Log  26425 non-null  int64\n",
      " 1   idade        26425 non-null  int64\n",
      " 2   renda        26425 non-null  int64\n",
      "dtypes: int64(3)\n",
      "memory usage: 619.5 KB\n"
     ]
    }
   ],
   "source": [
    "# Colhendo informações da tabela\n",
    "cliente.info()\n"
   ]
  },
  {
   "cell_type": "code",
   "execution_count": 31,
   "metadata": {},
   "outputs": [
    {
     "name": "stdout",
     "output_type": "stream",
     "text": [
      "<class 'pandas.core.frame.DataFrame'>\n",
      "RangeIndex: 26425 entries, 0 to 26424\n",
      "Data columns (total 3 columns):\n",
      " #   Column       Non-Null Count  Dtype  \n",
      "---  ------       --------------  -----  \n",
      " 0   cliente_Log  26425 non-null  int64  \n",
      " 1   idade        26425 non-null  int64  \n",
      " 2   renda        26425 non-null  float64\n",
      "dtypes: float64(1), int64(2)\n",
      "memory usage: 619.5 KB\n"
     ]
    }
   ],
   "source": [
    "# Alterando o tipo de dado de renda\n",
    "cliente = cliente.astype({'renda': 'float'})\n",
    "cliente.info()\n"
   ]
  },
  {
   "cell_type": "code",
   "execution_count": 32,
   "metadata": {},
   "outputs": [
    {
     "data": {
      "text/html": [
       "<div>\n",
       "<style scoped>\n",
       "    .dataframe tbody tr th:only-of-type {\n",
       "        vertical-align: middle;\n",
       "    }\n",
       "\n",
       "    .dataframe tbody tr th {\n",
       "        vertical-align: top;\n",
       "    }\n",
       "\n",
       "    .dataframe thead th {\n",
       "        text-align: right;\n",
       "    }\n",
       "</style>\n",
       "<table border=\"1\" class=\"dataframe\">\n",
       "  <thead>\n",
       "    <tr style=\"text-align: right;\">\n",
       "      <th></th>\n",
       "      <th>idcompra</th>\n",
       "      <th>idcanalvenda</th>\n",
       "      <th>bandeira</th>\n",
       "      <th>Data</th>\n",
       "      <th>Preço</th>\n",
       "      <th>Preço_com_frete</th>\n",
       "      <th>Nome_Departamento</th>\n",
       "      <th>estado</th>\n",
       "      <th>cliente_Log</th>\n",
       "      <th>idcanalvendas</th>\n",
       "      <th>mes</th>\n",
       "      <th>idade</th>\n",
       "      <th>renda</th>\n",
       "    </tr>\n",
       "  </thead>\n",
       "  <tbody>\n",
       "    <tr>\n",
       "      <th>0</th>\n",
       "      <td>437305</td>\n",
       "      <td>Mobile</td>\n",
       "      <td>A</td>\n",
       "      <td>2023-03-06</td>\n",
       "      <td>35.92</td>\n",
       "      <td>37.512</td>\n",
       "      <td>Bebes</td>\n",
       "      <td>SP</td>\n",
       "      <td>15478</td>\n",
       "      <td>Mobile</td>\n",
       "      <td>3</td>\n",
       "      <td>47</td>\n",
       "      <td>8258.0</td>\n",
       "    </tr>\n",
       "    <tr>\n",
       "      <th>1</th>\n",
       "      <td>455795</td>\n",
       "      <td>Mobile</td>\n",
       "      <td>B</td>\n",
       "      <td>2023-03-31</td>\n",
       "      <td>1743.20</td>\n",
       "      <td>1785.112</td>\n",
       "      <td>Esporte_e_Lazer</td>\n",
       "      <td>RS</td>\n",
       "      <td>19790</td>\n",
       "      <td>Mobile</td>\n",
       "      <td>3</td>\n",
       "      <td>26</td>\n",
       "      <td>9207.0</td>\n",
       "    </tr>\n",
       "    <tr>\n",
       "      <th>2</th>\n",
       "      <td>455795</td>\n",
       "      <td>Mobile</td>\n",
       "      <td>B</td>\n",
       "      <td>2023-03-31</td>\n",
       "      <td>1743.20</td>\n",
       "      <td>1785.112</td>\n",
       "      <td>Esporte_e_Lazer</td>\n",
       "      <td>RS</td>\n",
       "      <td>19790</td>\n",
       "      <td>Mobile</td>\n",
       "      <td>3</td>\n",
       "      <td>58</td>\n",
       "      <td>9204.0</td>\n",
       "    </tr>\n",
       "    <tr>\n",
       "      <th>3</th>\n",
       "      <td>455795</td>\n",
       "      <td>Mobile</td>\n",
       "      <td>B</td>\n",
       "      <td>2023-03-31</td>\n",
       "      <td>1743.20</td>\n",
       "      <td>1785.112</td>\n",
       "      <td>Esporte_e_Lazer</td>\n",
       "      <td>RS</td>\n",
       "      <td>19790</td>\n",
       "      <td>Mobile</td>\n",
       "      <td>3</td>\n",
       "      <td>48</td>\n",
       "      <td>2796.0</td>\n",
       "    </tr>\n",
       "    <tr>\n",
       "      <th>4</th>\n",
       "      <td>75525</td>\n",
       "      <td>Mobile</td>\n",
       "      <td>B</td>\n",
       "      <td>2023-02-19</td>\n",
       "      <td>679.20</td>\n",
       "      <td>695.120</td>\n",
       "      <td>Moveis</td>\n",
       "      <td>SP</td>\n",
       "      <td>3442</td>\n",
       "      <td>Mobile</td>\n",
       "      <td>2</td>\n",
       "      <td>78</td>\n",
       "      <td>6596.0</td>\n",
       "    </tr>\n",
       "  </tbody>\n",
       "</table>\n",
       "</div>"
      ],
      "text/plain": [
       "   idcompra idcanalvenda bandeira       Data  ...  idcanalvendas  mes idade   renda\n",
       "0    437305       Mobile        A 2023-03-06  ...         Mobile    3    47  8258.0\n",
       "1    455795       Mobile        B 2023-03-31  ...         Mobile    3    26  9207.0\n",
       "2    455795       Mobile        B 2023-03-31  ...         Mobile    3    58  9204.0\n",
       "3    455795       Mobile        B 2023-03-31  ...         Mobile    3    48  2796.0\n",
       "4     75525       Mobile        B 2023-02-19  ...         Mobile    2    78  6596.0\n",
       "\n",
       "[5 rows x 13 columns]"
      ]
     },
     "execution_count": 32,
     "metadata": {},
     "output_type": "execute_result"
    }
   ],
   "source": [
    "# integração de tabelas\n",
    "vendas_cliente = vendas_correto.merge(cliente, how=\"left\", on=\"cliente_Log\")\n",
    "vendas_cliente.head()"
   ]
  },
  {
   "cell_type": "code",
   "execution_count": 33,
   "metadata": {},
   "outputs": [
    {
     "data": {
      "text/html": [
       "<div>\n",
       "<style scoped>\n",
       "    .dataframe tbody tr th:only-of-type {\n",
       "        vertical-align: middle;\n",
       "    }\n",
       "\n",
       "    .dataframe tbody tr th {\n",
       "        vertical-align: top;\n",
       "    }\n",
       "\n",
       "    .dataframe thead th {\n",
       "        text-align: right;\n",
       "    }\n",
       "</style>\n",
       "<table border=\"1\" class=\"dataframe\">\n",
       "  <thead>\n",
       "    <tr style=\"text-align: right;\">\n",
       "      <th></th>\n",
       "      <th>idcanalvenda</th>\n",
       "      <th>renda</th>\n",
       "    </tr>\n",
       "  </thead>\n",
       "  <tbody>\n",
       "    <tr>\n",
       "      <th>0</th>\n",
       "      <td>APP</td>\n",
       "      <td>8429.45</td>\n",
       "    </tr>\n",
       "    <tr>\n",
       "      <th>1</th>\n",
       "      <td>Aplicativo</td>\n",
       "      <td>8243.93</td>\n",
       "    </tr>\n",
       "    <tr>\n",
       "      <th>2</th>\n",
       "      <td>Mobile</td>\n",
       "      <td>8222.72</td>\n",
       "    </tr>\n",
       "    <tr>\n",
       "      <th>3</th>\n",
       "      <td>Internet</td>\n",
       "      <td>8211.84</td>\n",
       "    </tr>\n",
       "  </tbody>\n",
       "</table>\n",
       "</div>"
      ],
      "text/plain": [
       "  idcanalvenda    renda\n",
       "0          APP  8429.45\n",
       "1   Aplicativo  8243.93\n",
       "2       Mobile  8222.72\n",
       "3     Internet  8211.84"
      ]
     },
     "execution_count": 33,
     "metadata": {},
     "output_type": "execute_result"
    }
   ],
   "source": [
    "# Média de renda por canal\n",
    "agg_idcanal_renda = round(vendas_cliente.groupby(\"idcanalvenda\")[\"renda\"].agg(\n",
    "    \"mean\").sort_values(ascending=False).reset_index(), 2)\n",
    "agg_idcanal_renda\n"
   ]
  },
  {
   "cell_type": "code",
   "execution_count": 34,
   "metadata": {},
   "outputs": [
    {
     "data": {
      "text/html": [
       "<div>\n",
       "<style scoped>\n",
       "    .dataframe tbody tr th:only-of-type {\n",
       "        vertical-align: middle;\n",
       "    }\n",
       "\n",
       "    .dataframe tbody tr th {\n",
       "        vertical-align: top;\n",
       "    }\n",
       "\n",
       "    .dataframe thead th {\n",
       "        text-align: right;\n",
       "    }\n",
       "</style>\n",
       "<table border=\"1\" class=\"dataframe\">\n",
       "  <thead>\n",
       "    <tr style=\"text-align: right;\">\n",
       "      <th></th>\n",
       "      <th>bandeira</th>\n",
       "      <th>idade</th>\n",
       "    </tr>\n",
       "  </thead>\n",
       "  <tbody>\n",
       "    <tr>\n",
       "      <th>0</th>\n",
       "      <td>A</td>\n",
       "      <td>53.30</td>\n",
       "    </tr>\n",
       "    <tr>\n",
       "      <th>1</th>\n",
       "      <td>B</td>\n",
       "      <td>53.29</td>\n",
       "    </tr>\n",
       "  </tbody>\n",
       "</table>\n",
       "</div>"
      ],
      "text/plain": [
       "  bandeira  idade\n",
       "0        A  53.30\n",
       "1        B  53.29"
      ]
     },
     "execution_count": 34,
     "metadata": {},
     "output_type": "execute_result"
    }
   ],
   "source": [
    "# Média de idade de clientes por bandeira\n",
    "agg_bandeira_idade = round(vendas_cliente.groupby(\"bandeira\")[\"idade\"].agg(\n",
    "    \"mean\").sort_values(ascending=False).reset_index(), 2)\n",
    "agg_bandeira_idade \n"
   ]
  },
  {
   "cell_type": "code",
   "execution_count": 35,
   "metadata": {},
   "outputs": [
    {
     "data": {
      "image/png": "[encoded data removed]",
      "text/plain": [
       "<Figure size 700x400 with 1 Axes>"
      ]
     },
     "metadata": {},
     "output_type": "display_data"
    }
   ],
   "source": [
    "# Criando gráfico de idade média por bandeira\n",
    "fig = plt.figure(figsize=(7, 4))\n",
    "\n",
    "plt.bar(agg_bandeira_idade['bandeira'], agg_bandeira_idade['idade'],\n",
    "        color='green')\n",
    "\n",
    "plt.ylabel('Média de idade')\n",
    "\n",
    "plt.title(\"Idade média por bandeira\", loc=\"center\", fontsize=18,\n",
    "          fontweight=\"bold\", color=\"black\");\n"
   ]
  },
  {
   "cell_type": "code",
   "execution_count": 36,
   "metadata": {},
   "outputs": [
    {
     "data": {
      "image/png": "[encoded data removed]",
      "text/plain": [
       "<Figure size 700x400 with 1 Axes>"
      ]
     },
     "metadata": {},
     "output_type": "display_data"
    }
   ],
   "source": [
    "# Gráfico de barras, média de renda por canal\n",
    "fig = plt.figure(figsize=(7, 4))\n",
    "\n",
    "plt.bar(agg_idcanal_renda['idcanalvenda'], agg_idcanal_renda['renda'],\n",
    "        color=\"green\")\n",
    "\n",
    "plt.xlabel(\"Canal de Vendas\")\n",
    "plt.ylabel(\"Renda média\")\n",
    "\n",
    "plt.title(\"Média de renda por canal\", loc=\"center\", fontsize=18, \n",
    "          fontweight=\"bold\", color=\"black\");"
   ]
  },
  {
   "cell_type": "code",
   "execution_count": 37,
   "metadata": {},
   "outputs": [
    {
     "data": {
      "text/html": [
       "<div>\n",
       "<style scoped>\n",
       "    .dataframe tbody tr th:only-of-type {\n",
       "        vertical-align: middle;\n",
       "    }\n",
       "\n",
       "    .dataframe tbody tr th {\n",
       "        vertical-align: top;\n",
       "    }\n",
       "\n",
       "    .dataframe thead th {\n",
       "        text-align: right;\n",
       "    }\n",
       "</style>\n",
       "<table border=\"1\" class=\"dataframe\">\n",
       "  <thead>\n",
       "    <tr style=\"text-align: right;\">\n",
       "      <th></th>\n",
       "      <th>Data</th>\n",
       "      <th>idcompra</th>\n",
       "    </tr>\n",
       "  </thead>\n",
       "  <tbody>\n",
       "    <tr>\n",
       "      <th>0</th>\n",
       "      <td>2023-01-02</td>\n",
       "      <td>193</td>\n",
       "    </tr>\n",
       "    <tr>\n",
       "      <th>1</th>\n",
       "      <td>2023-01-03</td>\n",
       "      <td>163</td>\n",
       "    </tr>\n",
       "    <tr>\n",
       "      <th>2</th>\n",
       "      <td>2023-01-04</td>\n",
       "      <td>188</td>\n",
       "    </tr>\n",
       "    <tr>\n",
       "      <th>3</th>\n",
       "      <td>2023-01-05</td>\n",
       "      <td>204</td>\n",
       "    </tr>\n",
       "    <tr>\n",
       "      <th>4</th>\n",
       "      <td>2023-01-06</td>\n",
       "      <td>198</td>\n",
       "    </tr>\n",
       "    <tr>\n",
       "      <th>...</th>\n",
       "      <td>...</td>\n",
       "      <td>...</td>\n",
       "    </tr>\n",
       "    <tr>\n",
       "      <th>114</th>\n",
       "      <td>2023-04-26</td>\n",
       "      <td>200</td>\n",
       "    </tr>\n",
       "    <tr>\n",
       "      <th>115</th>\n",
       "      <td>2023-04-27</td>\n",
       "      <td>212</td>\n",
       "    </tr>\n",
       "    <tr>\n",
       "      <th>116</th>\n",
       "      <td>2023-04-28</td>\n",
       "      <td>192</td>\n",
       "    </tr>\n",
       "    <tr>\n",
       "      <th>117</th>\n",
       "      <td>2023-04-29</td>\n",
       "      <td>187</td>\n",
       "    </tr>\n",
       "    <tr>\n",
       "      <th>118</th>\n",
       "      <td>2023-04-30</td>\n",
       "      <td>192</td>\n",
       "    </tr>\n",
       "  </tbody>\n",
       "</table>\n",
       "<p>119 rows × 2 columns</p>\n",
       "</div>"
      ],
      "text/plain": [
       "          Data  idcompra\n",
       "0   2023-01-02       193\n",
       "1   2023-01-03       163\n",
       "2   2023-01-04       188\n",
       "3   2023-01-05       204\n",
       "4   2023-01-06       198\n",
       "..         ...       ...\n",
       "114 2023-04-26       200\n",
       "115 2023-04-27       212\n",
       "116 2023-04-28       192\n",
       "117 2023-04-29       187\n",
       "118 2023-04-30       192\n",
       "\n",
       "[119 rows x 2 columns]"
      ]
     },
     "execution_count": 37,
     "metadata": {},
     "output_type": "execute_result"
    }
   ],
   "source": [
    "# Visualizando dados\n",
    "venda_por_data = vendas_correto.groupby(\"Data\").idcompra.nunique(\n",
    "   ).reset_index()\n",
    "\n",
    "venda_por_data"
   ]
  },
  {
   "cell_type": "code",
   "execution_count": 38,
   "metadata": {},
   "outputs": [
    {
     "name": "stdout",
     "output_type": "stream",
     "text": [
      "<class 'pandas.core.frame.DataFrame'>\n",
      "RangeIndex: 119 entries, 0 to 118\n",
      "Data columns (total 2 columns):\n",
      " #   Column    Non-Null Count  Dtype         \n",
      "---  ------    --------------  -----         \n",
      " 0   Data      119 non-null    datetime64[ns]\n",
      " 1   idcompra  119 non-null    int64         \n",
      "dtypes: datetime64[ns](1), int64(1)\n",
      "memory usage: 2.0 KB\n"
     ]
    }
   ],
   "source": [
    "# Informação da tabela\n",
    "venda_por_data.info()"
   ]
  },
  {
   "cell_type": "code",
   "execution_count": 39,
   "metadata": {},
   "outputs": [
    {
     "data": {
      "image/png": "[encoded data removed]",
      "text/plain": [
       "<Figure size 2000x1000 with 1 Axes>"
      ]
     },
     "metadata": {},
     "output_type": "display_data"
    }
   ],
   "source": [
    "# Grágico de linha - vendas por período\n",
    "fig = plt.figure(figsize=(20, 10))\n",
    "\n",
    "plt.xlabel(\"Data da venda\", fontsize=15)\n",
    "plt.ylabel(\"Quantidade de Vendas\", fontsize=15)\n",
    "x = venda_por_data[\"Data\"]\n",
    "y = venda_por_data[\"idcompra\"]\n",
    "\n",
    "plt.title(\"Quantidade de vendas por período\", loc=\"center\", fontsize=25,\n",
    "          fontweight=\"bold\", color=\"black\")\n",
    "\n",
    "plt.plot(x, y, color=\"green\", linewidth=\"2\")\n",
    "plt.show()"
   ]
  },
  {
   "cell_type": "code",
   "execution_count": 40,
   "metadata": {},
   "outputs": [
    {
     "data": {
      "text/html": [
       "<div>\n",
       "<style scoped>\n",
       "    .dataframe tbody tr th:only-of-type {\n",
       "        vertical-align: middle;\n",
       "    }\n",
       "\n",
       "    .dataframe tbody tr th {\n",
       "        vertical-align: top;\n",
       "    }\n",
       "\n",
       "    .dataframe thead th {\n",
       "        text-align: right;\n",
       "    }\n",
       "</style>\n",
       "<table border=\"1\" class=\"dataframe\">\n",
       "  <thead>\n",
       "    <tr style=\"text-align: right;\">\n",
       "      <th></th>\n",
       "      <th>Nome_Departamento</th>\n",
       "      <th>Preço_com_frete</th>\n",
       "    </tr>\n",
       "  </thead>\n",
       "  <tbody>\n",
       "    <tr>\n",
       "      <th>0</th>\n",
       "      <td>TVs_e_Acessorios</td>\n",
       "      <td>3469.38</td>\n",
       "    </tr>\n",
       "    <tr>\n",
       "      <th>1</th>\n",
       "      <td>Informatica</td>\n",
       "      <td>2159.78</td>\n",
       "    </tr>\n",
       "    <tr>\n",
       "      <th>2</th>\n",
       "      <td>Linha_Industrial</td>\n",
       "      <td>2027.11</td>\n",
       "    </tr>\n",
       "    <tr>\n",
       "      <th>3</th>\n",
       "      <td>Cine_e_Foto</td>\n",
       "      <td>1851.20</td>\n",
       "    </tr>\n",
       "    <tr>\n",
       "      <th>4</th>\n",
       "      <td>Telefones_e_Celulares</td>\n",
       "      <td>1442.19</td>\n",
       "    </tr>\n",
       "  </tbody>\n",
       "</table>\n",
       "</div>"
      ],
      "text/plain": [
       "       Nome_Departamento  Preço_com_frete\n",
       "0       TVs_e_Acessorios          3469.38\n",
       "1            Informatica          2159.78\n",
       "2       Linha_Industrial          2027.11\n",
       "3            Cine_e_Foto          1851.20\n",
       "4  Telefones_e_Celulares          1442.19"
      ]
     },
     "execution_count": 40,
     "metadata": {},
     "output_type": "execute_result"
    }
   ],
   "source": [
    "# Mostrando valores\n",
    "agg_dept_preco = round(vendas_correto.groupby(\"Nome_Departamento\")\n",
    "                       [\"Preço_com_frete\"].agg(\"mean\").sort_values(\n",
    "                           ascending=False).reset_index(), 2)\n",
    "\n",
    "agg_dept_preco.head()"
   ]
  },
  {
   "cell_type": "code",
   "execution_count": 41,
   "metadata": {},
   "outputs": [
    {
     "data": {
      "image/png": "[encoded data removed]",
      "text/plain": [
       "<Figure size 4000x2000 with 1 Axes>"
      ]
     },
     "metadata": {},
     "output_type": "display_data"
    }
   ],
   "source": [
    "# Média de preço com frete por departamento\n",
    "fig = plt.figure(figsize=(40, 20))\n",
    "\n",
    "plt.bar(agg_dept_preco[\"Nome_Departamento\"], agg_dept_preco[\n",
    "    \"Preço_com_frete\"])\n",
    "\n",
    "plt.xlabel(\"Nome Departamento\")\n",
    "plt.ylabel(\"Preço_com_frete\")\n",
    "\n",
    "plt.title(\"Média de preços com frete por departamento\", loc=\"center\",\n",
    "          fontsize=18, fontweight=\"bold\", color=\"black\");\n"
   ]
  },
  {
   "cell_type": "code",
   "execution_count": 42,
   "metadata": {},
   "outputs": [
    {
     "data": {
      "application/vnd.plotly.v1+json": {
       "config": {
        "plotlyServerURL": "https://plot.ly"
       },
       "data": [
        {
         "alignmentgroup": "True",
         "hovertemplate": "bandeira=%{x}<br>idade=%{y}<extra></extra>",
         "legendgroup": "",
         "marker": {
          "color": "#636efa",
          "pattern": {
           "shape": ""
          }
         },
         "name": "",
         "offsetgroup": "",
         "orientation": "v",
         "showlegend": false,
         "textposition": "auto",
         "type": "bar",
         "x": [
          "A",
          "B"
         ],
         "xaxis": "x",
         "y": [
          53.3,
          53.29
         ],
         "yaxis": "y"
        }
       ],
       "layout": {
        "barmode": "relative",
        "legend": {
         "tracegroupgap": 0
        },
        "margin": {
         "t": 60
        },
        "template": {
         "data": {
          "bar": [
           {
            "error_x": {
             "color": "#2a3f5f"
            },
            "error_y": {
             "color": "#2a3f5f"
            },
            "marker": {
             "line": {
              "color": "#E5ECF6",
              "width": 0.5
             },
             "pattern": {
              "fillmode": "overlay",
              "size": 10,
              "solidity": 0.2
             }
            },
            "type": "bar"
           }
          ],
          "barpolar": [
           {
            "marker": {
             "line": {
              "color": "#E5ECF6",
              "width": 0.5
             },
             "pattern": {
              "fillmode": "overlay",
              "size": 10,
              "solidity": 0.2
             }
            },
            "type": "barpolar"
           }
          ],
          "carpet": [
           {
            "aaxis": {
             "endlinecolor": "#2a3f5f",
             "gridcolor": "white",
             "linecolor": "white",
             "minorgridcolor": "white",
             "startlinecolor": "#2a3f5f"
            },
            "baxis": {
             "endlinecolor": "#2a3f5f",
             "gridcolor": "white",
             "linecolor": "white",
             "minorgridcolor": "white",
             "startlinecolor": "#2a3f5f"
            },
            "type": "carpet"
           }
          ],
          "choropleth": [
           {
            "colorbar": {
             "outlinewidth": 0,
             "ticks": ""
            },
            "type": "choropleth"
           }
          ],
          "contour": [
           {
            "colorbar": {
             "outlinewidth": 0,
             "ticks": ""
            },
            "colorscale": [
             [
              0,
              "#0d0887"
             ],
             [
              0.1111111111111111,
              "#46039f"
             ],
             [
              0.2222222222222222,
              "#7201a8"
             ],
             [
              0.3333333333333333,
              "#9c179e"
             ],
             [
              0.4444444444444444,
              "#bd3786"
             ],
             [
              0.5555555555555556,
              "#d8576b"
             ],
             [
              0.6666666666666666,
              "#ed7953"
             ],
             [
              0.7777777777777778,
              "#fb9f3a"
             ],
             [
              0.8888888888888888,
              "#fdca26"
             ],
             [
              1,
              "#f0f921"
             ]
            ],
            "type": "contour"
           }
          ],
          "contourcarpet": [
           {
            "colorbar": {
             "outlinewidth": 0,
             "ticks": ""
            },
            "type": "contourcarpet"
           }
          ],
          "heatmap": [
           {
            "colorbar": {
             "outlinewidth": 0,
             "ticks": ""
            },
            "colorscale": [
             [
              0,
              "#0d0887"
             ],
             [
              0.1111111111111111,
              "#46039f"
             ],
             [
              0.2222222222222222,
              "#7201a8"
             ],
             [
              0.3333333333333333,
              "#9c179e"
             ],
             [
              0.4444444444444444,
              "#bd3786"
             ],
             [
              0.5555555555555556,
              "#d8576b"
             ],
             [
              0.6666666666666666,
              "#ed7953"
             ],
             [
              0.7777777777777778,
              "#fb9f3a"
             ],
             [
              0.8888888888888888,
              "#fdca26"
             ],
             [
              1,
              "#f0f921"
             ]
            ],
            "type": "heatmap"
           }
          ],
          "heatmapgl": [
           {
            "colorbar": {
             "outlinewidth": 0,
             "ticks": ""
            },
            "colorscale": [
             [
              0,
              "#0d0887"
             ],
             [
              0.1111111111111111,
              "#46039f"
             ],
             [
              0.2222222222222222,
              "#7201a8"
             ],
             [
              0.3333333333333333,
              "#9c179e"
             ],
             [
              0.4444444444444444,
              "#bd3786"
             ],
             [
              0.5555555555555556,
              "#d8576b"
             ],
             [
              0.6666666666666666,
              "#ed7953"
             ],
             [
              0.7777777777777778,
              "#fb9f3a"
             ],
             [
              0.8888888888888888,
              "#fdca26"
             ],
             [
              1,
              "#f0f921"
             ]
            ],
            "type": "heatmapgl"
           }
          ],
          "histogram": [
           {
            "marker": {
             "pattern": {
              "fillmode": "overlay",
              "size": 10,
              "solidity": 0.2
             }
            },
            "type": "histogram"
           }
          ],
          "histogram2d": [
           {
            "colorbar": {
             "outlinewidth": 0,
             "ticks": ""
            },
            "colorscale": [
             [
              0,
              "#0d0887"
             ],
             [
              0.1111111111111111,
              "#46039f"
             ],
             [
              0.2222222222222222,
              "#7201a8"
             ],
             [
              0.3333333333333333,
              "#9c179e"
             ],
             [
              0.4444444444444444,
              "#bd3786"
             ],
             [
              0.5555555555555556,
              "#d8576b"
             ],
             [
              0.6666666666666666,
              "#ed7953"
             ],
             [
              0.7777777777777778,
              "#fb9f3a"
             ],
             [
              0.8888888888888888,
              "#fdca26"
             ],
             [
              1,
              "#f0f921"
             ]
            ],
            "type": "histogram2d"
           }
          ],
          "histogram2dcontour": [
           {
            "colorbar": {
             "outlinewidth": 0,
             "ticks": ""
            },
            "colorscale": [
             [
              0,
              "#0d0887"
             ],
             [
              0.1111111111111111,
              "#46039f"
             ],
             [
              0.2222222222222222,
              "#7201a8"
             ],
             [
              0.3333333333333333,
              "#9c179e"
             ],
             [
              0.4444444444444444,
              "#bd3786"
             ],
             [
              0.5555555555555556,
              "#d8576b"
             ],
             [
              0.6666666666666666,
              "#ed7953"
             ],
             [
              0.7777777777777778,
              "#fb9f3a"
             ],
             [
              0.8888888888888888,
              "#fdca26"
             ],
             [
              1,
              "#f0f921"
             ]
            ],
            "type": "histogram2dcontour"
           }
          ],
          "mesh3d": [
           {
            "colorbar": {
             "outlinewidth": 0,
             "ticks": ""
            },
            "type": "mesh3d"
           }
          ],
          "parcoords": [
           {
            "line": {
             "colorbar": {
              "outlinewidth": 0,
              "ticks": ""
             }
            },
            "type": "parcoords"
           }
          ],
          "pie": [
           {
            "automargin": true,
            "type": "pie"
           }
          ],
          "scatter": [
           {
            "fillpattern": {
             "fillmode": "overlay",
             "size": 10,
             "solidity": 0.2
            },
            "type": "scatter"
           }
          ],
          "scatter3d": [
           {
            "line": {
             "colorbar": {
              "outlinewidth": 0,
              "ticks": ""
             }
            },
            "marker": {
             "colorbar": {
              "outlinewidth": 0,
              "ticks": ""
             }
            },
            "type": "scatter3d"
           }
          ],
          "scattercarpet": [
           {
            "marker": {
             "colorbar": {
              "outlinewidth": 0,
              "ticks": ""
             }
            },
            "type": "scattercarpet"
           }
          ],
          "scattergeo": [
           {
            "marker": {
             "colorbar": {
              "outlinewidth": 0,
              "ticks": ""
             }
            },
            "type": "scattergeo"
           }
          ],
          "scattergl": [
           {
            "marker": {
             "colorbar": {
              "outlinewidth": 0,
              "ticks": ""
             }
            },
            "type": "scattergl"
           }
          ],
          "scattermapbox": [
           {
            "marker": {
             "colorbar": {
              "outlinewidth": 0,
              "ticks": ""
             }
            },
            "type": "scattermapbox"
           }
          ],
          "scatterpolar": [
           {
            "marker": {
             "colorbar": {
              "outlinewidth": 0,
              "ticks": ""
             }
            },
            "type": "scatterpolar"
           }
          ],
          "scatterpolargl": [
           {
            "marker": {
             "colorbar": {
              "outlinewidth": 0,
              "ticks": ""
             }
            },
            "type": "scatterpolargl"
           }
          ],
          "scatterternary": [
           {
            "marker": {
             "colorbar": {
              "outlinewidth": 0,
              "ticks": ""
             }
            },
            "type": "scatterternary"
           }
          ],
          "surface": [
           {
            "colorbar": {
             "outlinewidth": 0,
             "ticks": ""
            },
            "colorscale": [
             [
              0,
              "#0d0887"
             ],
             [
              0.1111111111111111,
              "#46039f"
             ],
             [
              0.2222222222222222,
              "#7201a8"
             ],
             [
              0.3333333333333333,
              "#9c179e"
             ],
             [
              0.4444444444444444,
              "#bd3786"
             ],
             [
              0.5555555555555556,
              "#d8576b"
             ],
             [
              0.6666666666666666,
              "#ed7953"
             ],
             [
              0.7777777777777778,
              "#fb9f3a"
             ],
             [
              0.8888888888888888,
              "#fdca26"
             ],
             [
              1,
              "#f0f921"
             ]
            ],
            "type": "surface"
           }
          ],
          "table": [
           {
            "cells": {
             "fill": {
              "color": "#EBF0F8"
             },
             "line": {
              "color": "white"
             }
            },
            "header": {
             "fill": {
              "color": "#C8D4E3"
             },
             "line": {
              "color": "white"
             }
            },
            "type": "table"
           }
          ]
         },
         "layout": {
          "annotationdefaults": {
           "arrowcolor": "#2a3f5f",
           "arrowhead": 0,
           "arrowwidth": 1
          },
          "autotypenumbers": "strict",
          "coloraxis": {
           "colorbar": {
            "outlinewidth": 0,
            "ticks": ""
           }
          },
          "colorscale": {
           "diverging": [
            [
             0,
             "#8e0152"
            ],
            [
             0.1,
             "#c51b7d"
            ],
            [
             0.2,
             "#de77ae"
            ],
            [
             0.3,
             "#f1b6da"
            ],
            [
             0.4,
             "#fde0ef"
            ],
            [
             0.5,
             "#f7f7f7"
            ],
            [
             0.6,
             "#e6f5d0"
            ],
            [
             0.7,
             "#b8e186"
            ],
            [
             0.8,
             "#7fbc41"
            ],
            [
             0.9,
             "#4d9221"
            ],
            [
             1,
             "#276419"
            ]
           ],
           "sequential": [
            [
             0,
             "#0d0887"
            ],
            [
             0.1111111111111111,
             "#46039f"
            ],
            [
             0.2222222222222222,
             "#7201a8"
            ],
            [
             0.3333333333333333,
             "#9c179e"
            ],
            [
             0.4444444444444444,
             "#bd3786"
            ],
            [
             0.5555555555555556,
             "#d8576b"
            ],
            [
             0.6666666666666666,
             "#ed7953"
            ],
            [
             0.7777777777777778,
             "#fb9f3a"
            ],
            [
             0.8888888888888888,
             "#fdca26"
            ],
            [
             1,
             "#f0f921"
            ]
           ],
           "sequentialminus": [
            [
             0,
             "#0d0887"
            ],
            [
             0.1111111111111111,
             "#46039f"
            ],
            [
             0.2222222222222222,
             "#7201a8"
            ],
            [
             0.3333333333333333,
             "#9c179e"
            ],
            [
             0.4444444444444444,
             "#bd3786"
            ],
            [
             0.5555555555555556,
             "#d8576b"
            ],
            [
             0.6666666666666666,
             "#ed7953"
            ],
            [
             0.7777777777777778,
             "#fb9f3a"
            ],
            [
             0.8888888888888888,
             "#fdca26"
            ],
            [
             1,
             "#f0f921"
            ]
           ]
          },
          "colorway": [
           "#636efa",
           "#EF553B",
           "#00cc96",
           "#ab63fa",
           "#FFA15A",
           "#19d3f3",
           "#FF6692",
           "#B6E880",
           "#FF97FF",
           "#FECB52"
          ],
          "font": {
           "color": "#2a3f5f"
          },
          "geo": {
           "bgcolor": "white",
           "lakecolor": "white",
           "landcolor": "#E5ECF6",
           "showlakes": true,
           "showland": true,
           "subunitcolor": "white"
          },
          "hoverlabel": {
           "align": "left"
          },
          "hovermode": "closest",
          "mapbox": {
           "style": "light"
          },
          "paper_bgcolor": "white",
          "plot_bgcolor": "#E5ECF6",
          "polar": {
           "angularaxis": {
            "gridcolor": "white",
            "linecolor": "white",
            "ticks": ""
           },
           "bgcolor": "#E5ECF6",
           "radialaxis": {
            "gridcolor": "white",
            "linecolor": "white",
            "ticks": ""
           }
          },
          "scene": {
           "xaxis": {
            "backgroundcolor": "#E5ECF6",
            "gridcolor": "white",
            "gridwidth": 2,
            "linecolor": "white",
            "showbackground": true,
            "ticks": "",
            "zerolinecolor": "white"
           },
           "yaxis": {
            "backgroundcolor": "#E5ECF6",
            "gridcolor": "white",
            "gridwidth": 2,
            "linecolor": "white",
            "showbackground": true,
            "ticks": "",
            "zerolinecolor": "white"
           },
           "zaxis": {
            "backgroundcolor": "#E5ECF6",
            "gridcolor": "white",
            "gridwidth": 2,
            "linecolor": "white",
            "showbackground": true,
            "ticks": "",
            "zerolinecolor": "white"
           }
          },
          "shapedefaults": {
           "line": {
            "color": "#2a3f5f"
           }
          },
          "ternary": {
           "aaxis": {
            "gridcolor": "white",
            "linecolor": "white",
            "ticks": ""
           },
           "baxis": {
            "gridcolor": "white",
            "linecolor": "white",
            "ticks": ""
           },
           "bgcolor": "#E5ECF6",
           "caxis": {
            "gridcolor": "white",
            "linecolor": "white",
            "ticks": ""
           }
          },
          "title": {
           "x": 0.05
          },
          "xaxis": {
           "automargin": true,
           "gridcolor": "white",
           "linecolor": "white",
           "ticks": "",
           "title": {
            "standoff": 15
           },
           "zerolinecolor": "white",
           "zerolinewidth": 2
          },
          "yaxis": {
           "automargin": true,
           "gridcolor": "white",
           "linecolor": "white",
           "ticks": "",
           "title": {
            "standoff": 15
           },
           "zerolinecolor": "white",
           "zerolinewidth": 2
          }
         }
        },
        "xaxis": {
         "anchor": "y",
         "domain": [
          0,
          1
         ],
         "title": {
          "text": "bandeira"
         }
        },
        "yaxis": {
         "anchor": "x",
         "domain": [
          0,
          1
         ],
         "title": {
          "text": "idade"
         }
        }
       }
      }
     },
     "metadata": {},
     "output_type": "display_data"
    }
   ],
   "source": [
    "# Gráfico de barras com plotly - Média de idade por bandeira\n",
    "px.bar(agg_bandeira_idade, x=\"bandeira\", y=\"idade\")\n"
   ]
  },
  {
   "cell_type": "code",
   "execution_count": 43,
   "metadata": {},
   "outputs": [
    {
     "data": {
      "application/vnd.plotly.v1+json": {
       "config": {
        "plotlyServerURL": "https://plot.ly"
       },
       "data": [
        {
         "hovertemplate": "Data=%{x}<br>idcompra=%{y}<extra></extra>",
         "legendgroup": "",
         "line": {
          "color": "#636efa",
          "dash": "solid"
         },
         "marker": {
          "symbol": "circle"
         },
         "mode": "lines",
         "name": "",
         "orientation": "v",
         "showlegend": false,
         "type": "scatter",
         "x": [
          "2023-01-02T00:00:00",
          "2023-01-03T00:00:00",
          "2023-01-04T00:00:00",
          "2023-01-05T00:00:00",
          "2023-01-06T00:00:00",
          "2023-01-07T00:00:00",
          "2023-01-08T00:00:00",
          "2023-01-09T00:00:00",
          "2023-01-10T00:00:00",
          "2023-01-11T00:00:00",
          "2023-01-12T00:00:00",
          "2023-01-13T00:00:00",
          "2023-01-14T00:00:00",
          "2023-01-15T00:00:00",
          "2023-01-16T00:00:00",
          "2023-01-17T00:00:00",
          "2023-01-18T00:00:00",
          "2023-01-19T00:00:00",
          "2023-01-20T00:00:00",
          "2023-01-21T00:00:00",
          "2023-01-22T00:00:00",
          "2023-01-23T00:00:00",
          "2023-01-24T00:00:00",
          "2023-01-25T00:00:00",
          "2023-01-26T00:00:00",
          "2023-01-27T00:00:00",
          "2023-01-28T00:00:00",
          "2023-01-29T00:00:00",
          "2023-01-30T00:00:00",
          "2023-01-31T00:00:00",
          "2023-02-01T00:00:00",
          "2023-02-02T00:00:00",
          "2023-02-03T00:00:00",
          "2023-02-04T00:00:00",
          "2023-02-05T00:00:00",
          "2023-02-06T00:00:00",
          "2023-02-07T00:00:00",
          "2023-02-08T00:00:00",
          "2023-02-09T00:00:00",
          "2023-02-10T00:00:00",
          "2023-02-11T00:00:00",
          "2023-02-12T00:00:00",
          "2023-02-13T00:00:00",
          "2023-02-14T00:00:00",
          "2023-02-15T00:00:00",
          "2023-02-16T00:00:00",
          "2023-02-17T00:00:00",
          "2023-02-18T00:00:00",
          "2023-02-19T00:00:00",
          "2023-02-20T00:00:00",
          "2023-02-21T00:00:00",
          "2023-02-22T00:00:00",
          "2023-02-23T00:00:00",
          "2023-02-24T00:00:00",
          "2023-02-25T00:00:00",
          "2023-02-26T00:00:00",
          "2023-02-27T00:00:00",
          "2023-02-28T00:00:00",
          "2023-03-01T00:00:00",
          "2023-03-02T00:00:00",
          "2023-03-03T00:00:00",
          "2023-03-04T00:00:00",
          "2023-03-05T00:00:00",
          "2023-03-06T00:00:00",
          "2023-03-07T00:00:00",
          "2023-03-08T00:00:00",
          "2023-03-09T00:00:00",
          "2023-03-10T00:00:00",
          "2023-03-11T00:00:00",
          "2023-03-12T00:00:00",
          "2023-03-13T00:00:00",
          "2023-03-14T00:00:00",
          "2023-03-15T00:00:00",
          "2023-03-16T00:00:00",
          "2023-03-17T00:00:00",
          "2023-03-18T00:00:00",
          "2023-03-19T00:00:00",
          "2023-03-20T00:00:00",
          "2023-03-21T00:00:00",
          "2023-03-22T00:00:00",
          "2023-03-23T00:00:00",
          "2023-03-24T00:00:00",
          "2023-03-25T00:00:00",
          "2023-03-26T00:00:00",
          "2023-03-27T00:00:00",
          "2023-03-28T00:00:00",
          "2023-03-29T00:00:00",
          "2023-03-30T00:00:00",
          "2023-03-31T00:00:00",
          "2023-04-01T00:00:00",
          "2023-04-02T00:00:00",
          "2023-04-03T00:00:00",
          "2023-04-04T00:00:00",
          "2023-04-05T00:00:00",
          "2023-04-06T00:00:00",
          "2023-04-07T00:00:00",
          "2023-04-08T00:00:00",
          "2023-04-09T00:00:00",
          "2023-04-10T00:00:00",
          "2023-04-11T00:00:00",
          "2023-04-12T00:00:00",
          "2023-04-13T00:00:00",
          "2023-04-14T00:00:00",
          "2023-04-15T00:00:00",
          "2023-04-16T00:00:00",
          "2023-04-17T00:00:00",
          "2023-04-18T00:00:00",
          "2023-04-19T00:00:00",
          "2023-04-20T00:00:00",
          "2023-04-21T00:00:00",
          "2023-04-22T00:00:00",
          "2023-04-23T00:00:00",
          "2023-04-24T00:00:00",
          "2023-04-25T00:00:00",
          "2023-04-26T00:00:00",
          "2023-04-27T00:00:00",
          "2023-04-28T00:00:00",
          "2023-04-29T00:00:00",
          "2023-04-30T00:00:00"
         ],
         "xaxis": "x",
         "y": [
          193,
          163,
          188,
          204,
          198,
          175,
          190,
          187,
          180,
          164,
          167,
          189,
          176,
          162,
          181,
          168,
          175,
          179,
          218,
          187,
          191,
          163,
          187,
          193,
          169,
          207,
          174,
          163,
          174,
          190,
          186,
          183,
          194,
          195,
          195,
          183,
          181,
          163,
          208,
          208,
          187,
          152,
          226,
          181,
          162,
          178,
          177,
          200,
          182,
          214,
          197,
          156,
          208,
          212,
          161,
          194,
          190,
          185,
          170,
          189,
          181,
          191,
          163,
          198,
          215,
          191,
          191,
          194,
          166,
          199,
          186,
          204,
          183,
          188,
          184,
          187,
          179,
          182,
          166,
          170,
          171,
          194,
          184,
          193,
          191,
          162,
          171,
          214,
          173,
          191,
          166,
          179,
          162,
          191,
          190,
          195,
          180,
          182,
          207,
          184,
          169,
          188,
          162,
          182,
          201,
          201,
          178,
          198,
          187,
          170,
          182,
          178,
          196,
          183,
          200,
          212,
          192,
          187,
          192
         ],
         "yaxis": "y"
        }
       ],
       "layout": {
        "legend": {
         "tracegroupgap": 0
        },
        "margin": {
         "t": 60
        },
        "template": {
         "data": {
          "bar": [
           {
            "error_x": {
             "color": "#2a3f5f"
            },
            "error_y": {
             "color": "#2a3f5f"
            },
            "marker": {
             "line": {
              "color": "#E5ECF6",
              "width": 0.5
             },
             "pattern": {
              "fillmode": "overlay",
              "size": 10,
              "solidity": 0.2
             }
            },
            "type": "bar"
           }
          ],
          "barpolar": [
           {
            "marker": {
             "line": {
              "color": "#E5ECF6",
              "width": 0.5
             },
             "pattern": {
              "fillmode": "overlay",
              "size": 10,
              "solidity": 0.2
             }
            },
            "type": "barpolar"
           }
          ],
          "carpet": [
           {
            "aaxis": {
             "endlinecolor": "#2a3f5f",
             "gridcolor": "white",
             "linecolor": "white",
             "minorgridcolor": "white",
             "startlinecolor": "#2a3f5f"
            },
            "baxis": {
             "endlinecolor": "#2a3f5f",
             "gridcolor": "white",
             "linecolor": "white",
             "minorgridcolor": "white",
             "startlinecolor": "#2a3f5f"
            },
            "type": "carpet"
           }
          ],
          "choropleth": [
           {
            "colorbar": {
             "outlinewidth": 0,
             "ticks": ""
            },
            "type": "choropleth"
           }
          ],
          "contour": [
           {
            "colorbar": {
             "outlinewidth": 0,
             "ticks": ""
            },
            "colorscale": [
             [
              0,
              "#0d0887"
             ],
             [
              0.1111111111111111,
              "#46039f"
             ],
             [
              0.2222222222222222,
              "#7201a8"
             ],
             [
              0.3333333333333333,
              "#9c179e"
             ],
             [
              0.4444444444444444,
              "#bd3786"
             ],
             [
              0.5555555555555556,
              "#d8576b"
             ],
             [
              0.6666666666666666,
              "#ed7953"
             ],
             [
              0.7777777777777778,
              "#fb9f3a"
             ],
             [
              0.8888888888888888,
              "#fdca26"
             ],
             [
              1,
              "#f0f921"
             ]
            ],
            "type": "contour"
           }
          ],
          "contourcarpet": [
           {
            "colorbar": {
             "outlinewidth": 0,
             "ticks": ""
            },
            "type": "contourcarpet"
           }
          ],
          "heatmap": [
           {
            "colorbar": {
             "outlinewidth": 0,
             "ticks": ""
            },
            "colorscale": [
             [
              0,
              "#0d0887"
             ],
             [
              0.1111111111111111,
              "#46039f"
             ],
             [
              0.2222222222222222,
              "#7201a8"
             ],
             [
              0.3333333333333333,
              "#9c179e"
             ],
             [
              0.4444444444444444,
              "#bd3786"
             ],
             [
              0.5555555555555556,
              "#d8576b"
             ],
             [
              0.6666666666666666,
              "#ed7953"
             ],
             [
              0.7777777777777778,
              "#fb9f3a"
             ],
             [
              0.8888888888888888,
              "#fdca26"
             ],
             [
              1,
              "#f0f921"
             ]
            ],
            "type": "heatmap"
           }
          ],
          "heatmapgl": [
           {
            "colorbar": {
             "outlinewidth": 0,
             "ticks": ""
            },
            "colorscale": [
             [
              0,
              "#0d0887"
             ],
             [
              0.1111111111111111,
              "#46039f"
             ],
             [
              0.2222222222222222,
              "#7201a8"
             ],
             [
              0.3333333333333333,
              "#9c179e"
             ],
             [
              0.4444444444444444,
              "#bd3786"
             ],
             [
              0.5555555555555556,
              "#d8576b"
             ],
             [
              0.6666666666666666,
              "#ed7953"
             ],
             [
              0.7777777777777778,
              "#fb9f3a"
             ],
             [
              0.8888888888888888,
              "#fdca26"
             ],
             [
              1,
              "#f0f921"
             ]
            ],
            "type": "heatmapgl"
           }
          ],
          "histogram": [
           {
            "marker": {
             "pattern": {
              "fillmode": "overlay",
              "size": 10,
              "solidity": 0.2
             }
            },
            "type": "histogram"
           }
          ],
          "histogram2d": [
           {
            "colorbar": {
             "outlinewidth": 0,
             "ticks": ""
            },
            "colorscale": [
             [
              0,
              "#0d0887"
             ],
             [
              0.1111111111111111,
              "#46039f"
             ],
             [
              0.2222222222222222,
              "#7201a8"
             ],
             [
              0.3333333333333333,
              "#9c179e"
             ],
             [
              0.4444444444444444,
              "#bd3786"
             ],
             [
              0.5555555555555556,
              "#d8576b"
             ],
             [
              0.6666666666666666,
              "#ed7953"
             ],
             [
              0.7777777777777778,
              "#fb9f3a"
             ],
             [
              0.8888888888888888,
              "#fdca26"
             ],
             [
              1,
              "#f0f921"
             ]
            ],
            "type": "histogram2d"
           }
          ],
          "histogram2dcontour": [
           {
            "colorbar": {
             "outlinewidth": 0,
             "ticks": ""
            },
            "colorscale": [
             [
              0,
              "#0d0887"
             ],
             [
              0.1111111111111111,
              "#46039f"
             ],
             [
              0.2222222222222222,
              "#7201a8"
             ],
             [
              0.3333333333333333,
              "#9c179e"
             ],
             [
              0.4444444444444444,
              "#bd3786"
             ],
             [
              0.5555555555555556,
              "#d8576b"
             ],
             [
              0.6666666666666666,
              "#ed7953"
             ],
             [
              0.7777777777777778,
              "#fb9f3a"
             ],
             [
              0.8888888888888888,
              "#fdca26"
             ],
             [
              1,
              "#f0f921"
             ]
            ],
            "type": "histogram2dcontour"
           }
          ],
          "mesh3d": [
           {
            "colorbar": {
             "outlinewidth": 0,
             "ticks": ""
            },
            "type": "mesh3d"
           }
          ],
          "parcoords": [
           {
            "line": {
             "colorbar": {
              "outlinewidth": 0,
              "ticks": ""
             }
            },
            "type": "parcoords"
           }
          ],
          "pie": [
           {
            "automargin": true,
            "type": "pie"
           }
          ],
          "scatter": [
           {
            "fillpattern": {
             "fillmode": "overlay",
             "size": 10,
             "solidity": 0.2
            },
            "type": "scatter"
           }
          ],
          "scatter3d": [
           {
            "line": {
             "colorbar": {
              "outlinewidth": 0,
              "ticks": ""
             }
            },
            "marker": {
             "colorbar": {
              "outlinewidth": 0,
              "ticks": ""
             }
            },
            "type": "scatter3d"
           }
          ],
          "scattercarpet": [
           {
            "marker": {
             "colorbar": {
              "outlinewidth": 0,
              "ticks": ""
             }
            },
            "type": "scattercarpet"
           }
          ],
          "scattergeo": [
           {
            "marker": {
             "colorbar": {
              "outlinewidth": 0,
              "ticks": ""
             }
            },
            "type": "scattergeo"
           }
          ],
          "scattergl": [
           {
            "marker": {
             "colorbar": {
              "outlinewidth": 0,
              "ticks": ""
             }
            },
            "type": "scattergl"
           }
          ],
          "scattermapbox": [
           {
            "marker": {
             "colorbar": {
              "outlinewidth": 0,
              "ticks": ""
             }
            },
            "type": "scattermapbox"
           }
          ],
          "scatterpolar": [
           {
            "marker": {
             "colorbar": {
              "outlinewidth": 0,
              "ticks": ""
             }
            },
            "type": "scatterpolar"
           }
          ],
          "scatterpolargl": [
           {
            "marker": {
             "colorbar": {
              "outlinewidth": 0,
              "ticks": ""
             }
            },
            "type": "scatterpolargl"
           }
          ],
          "scatterternary": [
           {
            "marker": {
             "colorbar": {
              "outlinewidth": 0,
              "ticks": ""
             }
            },
            "type": "scatterternary"
           }
          ],
          "surface": [
           {
            "colorbar": {
             "outlinewidth": 0,
             "ticks": ""
            },
            "colorscale": [
             [
              0,
              "#0d0887"
             ],
             [
              0.1111111111111111,
              "#46039f"
             ],
             [
              0.2222222222222222,
              "#7201a8"
             ],
             [
              0.3333333333333333,
              "#9c179e"
             ],
             [
              0.4444444444444444,
              "#bd3786"
             ],
             [
              0.5555555555555556,
              "#d8576b"
             ],
             [
              0.6666666666666666,
              "#ed7953"
             ],
             [
              0.7777777777777778,
              "#fb9f3a"
             ],
             [
              0.8888888888888888,
              "#fdca26"
             ],
             [
              1,
              "#f0f921"
             ]
            ],
            "type": "surface"
           }
          ],
          "table": [
           {
            "cells": {
             "fill": {
              "color": "#EBF0F8"
             },
             "line": {
              "color": "white"
             }
            },
            "header": {
             "fill": {
              "color": "#C8D4E3"
             },
             "line": {
              "color": "white"
             }
            },
            "type": "table"
           }
          ]
         },
         "layout": {
          "annotationdefaults": {
           "arrowcolor": "#2a3f5f",
           "arrowhead": 0,
           "arrowwidth": 1
          },
          "autotypenumbers": "strict",
          "coloraxis": {
           "colorbar": {
            "outlinewidth": 0,
            "ticks": ""
           }
          },
          "colorscale": {
           "diverging": [
            [
             0,
             "#8e0152"
            ],
            [
             0.1,
             "#c51b7d"
            ],
            [
             0.2,
             "#de77ae"
            ],
            [
             0.3,
             "#f1b6da"
            ],
            [
             0.4,
             "#fde0ef"
            ],
            [
             0.5,
             "#f7f7f7"
            ],
            [
             0.6,
             "#e6f5d0"
            ],
            [
             0.7,
             "#b8e186"
            ],
            [
             0.8,
             "#7fbc41"
            ],
            [
             0.9,
             "#4d9221"
            ],
            [
             1,
             "#276419"
            ]
           ],
           "sequential": [
            [
             0,
             "#0d0887"
            ],
            [
             0.1111111111111111,
             "#46039f"
            ],
            [
             0.2222222222222222,
             "#7201a8"
            ],
            [
             0.3333333333333333,
             "#9c179e"
            ],
            [
             0.4444444444444444,
             "#bd3786"
            ],
            [
             0.5555555555555556,
             "#d8576b"
            ],
            [
             0.6666666666666666,
             "#ed7953"
            ],
            [
             0.7777777777777778,
             "#fb9f3a"
            ],
            [
             0.8888888888888888,
             "#fdca26"
            ],
            [
             1,
             "#f0f921"
            ]
           ],
           "sequentialminus": [
            [
             0,
             "#0d0887"
            ],
            [
             0.1111111111111111,
             "#46039f"
            ],
            [
             0.2222222222222222,
             "#7201a8"
            ],
            [
             0.3333333333333333,
             "#9c179e"
            ],
            [
             0.4444444444444444,
             "#bd3786"
            ],
            [
             0.5555555555555556,
             "#d8576b"
            ],
            [
             0.6666666666666666,
             "#ed7953"
            ],
            [
             0.7777777777777778,
             "#fb9f3a"
            ],
            [
             0.8888888888888888,
             "#fdca26"
            ],
            [
             1,
             "#f0f921"
            ]
           ]
          },
          "colorway": [
           "#636efa",
           "#EF553B",
           "#00cc96",
           "#ab63fa",
           "#FFA15A",
           "#19d3f3",
           "#FF6692",
           "#B6E880",
           "#FF97FF",
           "#FECB52"
          ],
          "font": {
           "color": "#2a3f5f"
          },
          "geo": {
           "bgcolor": "white",
           "lakecolor": "white",
           "landcolor": "#E5ECF6",
           "showlakes": true,
           "showland": true,
           "subunitcolor": "white"
          },
          "hoverlabel": {
           "align": "left"
          },
          "hovermode": "closest",
          "mapbox": {
           "style": "light"
          },
          "paper_bgcolor": "white",
          "plot_bgcolor": "#E5ECF6",
          "polar": {
           "angularaxis": {
            "gridcolor": "white",
            "linecolor": "white",
            "ticks": ""
           },
           "bgcolor": "#E5ECF6",
           "radialaxis": {
            "gridcolor": "white",
            "linecolor": "white",
            "ticks": ""
           }
          },
          "scene": {
           "xaxis": {
            "backgroundcolor": "#E5ECF6",
            "gridcolor": "white",
            "gridwidth": 2,
            "linecolor": "white",
            "showbackground": true,
            "ticks": "",
            "zerolinecolor": "white"
           },
           "yaxis": {
            "backgroundcolor": "#E5ECF6",
            "gridcolor": "white",
            "gridwidth": 2,
            "linecolor": "white",
            "showbackground": true,
            "ticks": "",
            "zerolinecolor": "white"
           },
           "zaxis": {
            "backgroundcolor": "#E5ECF6",
            "gridcolor": "white",
            "gridwidth": 2,
            "linecolor": "white",
            "showbackground": true,
            "ticks": "",
            "zerolinecolor": "white"
           }
          },
          "shapedefaults": {
           "line": {
            "color": "#2a3f5f"
           }
          },
          "ternary": {
           "aaxis": {
            "gridcolor": "white",
            "linecolor": "white",
            "ticks": ""
           },
           "baxis": {
            "gridcolor": "white",
            "linecolor": "white",
            "ticks": ""
           },
           "bgcolor": "#E5ECF6",
           "caxis": {
            "gridcolor": "white",
            "linecolor": "white",
            "ticks": ""
           }
          },
          "title": {
           "x": 0.05
          },
          "xaxis": {
           "automargin": true,
           "gridcolor": "white",
           "linecolor": "white",
           "ticks": "",
           "title": {
            "standoff": 15
           },
           "zerolinecolor": "white",
           "zerolinewidth": 2
          },
          "yaxis": {
           "automargin": true,
           "gridcolor": "white",
           "linecolor": "white",
           "ticks": "",
           "title": {
            "standoff": 15
           },
           "zerolinecolor": "white",
           "zerolinewidth": 2
          }
         }
        },
        "xaxis": {
         "anchor": "y",
         "domain": [
          0,
          1
         ],
         "title": {
          "text": "Data"
         }
        },
        "yaxis": {
         "anchor": "x",
         "domain": [
          0,
          1
         ],
         "title": {
          "text": "idcompra"
         }
        }
       }
      }
     },
     "metadata": {},
     "output_type": "display_data"
    }
   ],
   "source": [
    "# Gráfico de linhas plotly - Compras por período\n",
    "px.line(venda_por_data, x=\"Data\", y=\"idcompra\")\n"
   ]
  },
  {
   "cell_type": "code",
   "execution_count": 45,
   "metadata": {},
   "outputs": [
    {
     "data": {
      "application/vnd.plotly.v1+json": {
       "config": {
        "plotlyServerURL": "https://plot.ly"
       },
       "data": [
        {
         "alignmentgroup": "True",
         "hovertemplate": "Nome_Departamento=%{x}<br>Preço_com_frete=%{y}<extra></extra>",
         "legendgroup": "",
         "marker": {
          "color": "#636efa",
          "pattern": {
           "shape": ""
          }
         },
         "name": "",
         "offsetgroup": "",
         "orientation": "v",
         "showlegend": false,
         "textposition": "auto",
         "type": "bar",
         "x": [
          "TVs_e_Acessorios",
          "Informatica",
          "Linha_Industrial",
          "Cine_e_Foto",
          "Telefones_e_Celulares",
          "Eletrodomesticos",
          "Esporte_e_Lazer",
          "Tablets",
          "Games",
          "Instrumentos_Musicais",
          "Automotivo",
          "Moveis",
          "Ar_e_Ventilacao",
          "Audio",
          "Casa_e_Construcao",
          "Pet_Shop",
          "Acessorios_e_Inovacoes",
          "Eletroportateis",
          "Ferramentas",
          "Cama,_Mesa_e_Banho",
          "Malas_e_Mochilas",
          "Relogios",
          "Brinquedos",
          "Utilidades_Domesticas",
          "Decoracao",
          "Bebes",
          "Beleza_e_Saude",
          "Alimentos",
          "Perfumaria",
          "Produtos_de_Limpeza",
          "Moda"
         ],
         "xaxis": "x",
         "y": [
          3469.38,
          2159.78,
          2027.11,
          1851.2,
          1442.19,
          1400.66,
          1123.14,
          1100.23,
          942.9,
          834.61,
          681.57,
          541.03,
          518.79,
          480.35,
          433.53,
          237.26,
          229.14,
          223.77,
          217.59,
          210.7,
          194.26,
          186.95,
          176.45,
          155.02,
          144.5,
          130.9,
          119.59,
          104.24,
          80.91,
          68.79,
          47.01
         ],
         "yaxis": "y"
        }
       ],
       "layout": {
        "barmode": "relative",
        "legend": {
         "tracegroupgap": 0
        },
        "margin": {
         "t": 60
        },
        "template": {
         "data": {
          "bar": [
           {
            "error_x": {
             "color": "#2a3f5f"
            },
            "error_y": {
             "color": "#2a3f5f"
            },
            "marker": {
             "line": {
              "color": "#E5ECF6",
              "width": 0.5
             },
             "pattern": {
              "fillmode": "overlay",
              "size": 10,
              "solidity": 0.2
             }
            },
            "type": "bar"
           }
          ],
          "barpolar": [
           {
            "marker": {
             "line": {
              "color": "#E5ECF6",
              "width": 0.5
             },
             "pattern": {
              "fillmode": "overlay",
              "size": 10,
              "solidity": 0.2
             }
            },
            "type": "barpolar"
           }
          ],
          "carpet": [
           {
            "aaxis": {
             "endlinecolor": "#2a3f5f",
             "gridcolor": "white",
             "linecolor": "white",
             "minorgridcolor": "white",
             "startlinecolor": "#2a3f5f"
            },
            "baxis": {
             "endlinecolor": "#2a3f5f",
             "gridcolor": "white",
             "linecolor": "white",
             "minorgridcolor": "white",
             "startlinecolor": "#2a3f5f"
            },
            "type": "carpet"
           }
          ],
          "choropleth": [
           {
            "colorbar": {
             "outlinewidth": 0,
             "ticks": ""
            },
            "type": "choropleth"
           }
          ],
          "contour": [
           {
            "colorbar": {
             "outlinewidth": 0,
             "ticks": ""
            },
            "colorscale": [
             [
              0,
              "#0d0887"
             ],
             [
              0.1111111111111111,
              "#46039f"
             ],
             [
              0.2222222222222222,
              "#7201a8"
             ],
             [
              0.3333333333333333,
              "#9c179e"
             ],
             [
              0.4444444444444444,
              "#bd3786"
             ],
             [
              0.5555555555555556,
              "#d8576b"
             ],
             [
              0.6666666666666666,
              "#ed7953"
             ],
             [
              0.7777777777777778,
              "#fb9f3a"
             ],
             [
              0.8888888888888888,
              "#fdca26"
             ],
             [
              1,
              "#f0f921"
             ]
            ],
            "type": "contour"
           }
          ],
          "contourcarpet": [
           {
            "colorbar": {
             "outlinewidth": 0,
             "ticks": ""
            },
            "type": "contourcarpet"
           }
          ],
          "heatmap": [
           {
            "colorbar": {
             "outlinewidth": 0,
             "ticks": ""
            },
            "colorscale": [
             [
              0,
              "#0d0887"
             ],
             [
              0.1111111111111111,
              "#46039f"
             ],
             [
              0.2222222222222222,
              "#7201a8"
             ],
             [
              0.3333333333333333,
              "#9c179e"
             ],
             [
              0.4444444444444444,
              "#bd3786"
             ],
             [
              0.5555555555555556,
              "#d8576b"
             ],
             [
              0.6666666666666666,
              "#ed7953"
             ],
             [
              0.7777777777777778,
              "#fb9f3a"
             ],
             [
              0.8888888888888888,
              "#fdca26"
             ],
             [
              1,
              "#f0f921"
             ]
            ],
            "type": "heatmap"
           }
          ],
          "heatmapgl": [
           {
            "colorbar": {
             "outlinewidth": 0,
             "ticks": ""
            },
            "colorscale": [
             [
              0,
              "#0d0887"
             ],
             [
              0.1111111111111111,
              "#46039f"
             ],
             [
              0.2222222222222222,
              "#7201a8"
             ],
             [
              0.3333333333333333,
              "#9c179e"
             ],
             [
              0.4444444444444444,
              "#bd3786"
             ],
             [
              0.5555555555555556,
              "#d8576b"
             ],
             [
              0.6666666666666666,
              "#ed7953"
             ],
             [
              0.7777777777777778,
              "#fb9f3a"
             ],
             [
              0.8888888888888888,
              "#fdca26"
             ],
             [
              1,
              "#f0f921"
             ]
            ],
            "type": "heatmapgl"
           }
          ],
          "histogram": [
           {
            "marker": {
             "pattern": {
              "fillmode": "overlay",
              "size": 10,
              "solidity": 0.2
             }
            },
            "type": "histogram"
           }
          ],
          "histogram2d": [
           {
            "colorbar": {
             "outlinewidth": 0,
             "ticks": ""
            },
            "colorscale": [
             [
              0,
              "#0d0887"
             ],
             [
              0.1111111111111111,
              "#46039f"
             ],
             [
              0.2222222222222222,
              "#7201a8"
             ],
             [
              0.3333333333333333,
              "#9c179e"
             ],
             [
              0.4444444444444444,
              "#bd3786"
             ],
             [
              0.5555555555555556,
              "#d8576b"
             ],
             [
              0.6666666666666666,
              "#ed7953"
             ],
             [
              0.7777777777777778,
              "#fb9f3a"
             ],
             [
              0.8888888888888888,
              "#fdca26"
             ],
             [
              1,
              "#f0f921"
             ]
            ],
            "type": "histogram2d"
           }
          ],
          "histogram2dcontour": [
           {
            "colorbar": {
             "outlinewidth": 0,
             "ticks": ""
            },
            "colorscale": [
             [
              0,
              "#0d0887"
             ],
             [
              0.1111111111111111,
              "#46039f"
             ],
             [
              0.2222222222222222,
              "#7201a8"
             ],
             [
              0.3333333333333333,
              "#9c179e"
             ],
             [
              0.4444444444444444,
              "#bd3786"
             ],
             [
              0.5555555555555556,
              "#d8576b"
             ],
             [
              0.6666666666666666,
              "#ed7953"
             ],
             [
              0.7777777777777778,
              "#fb9f3a"
             ],
             [
              0.8888888888888888,
              "#fdca26"
             ],
             [
              1,
              "#f0f921"
             ]
            ],
            "type": "histogram2dcontour"
           }
          ],
          "mesh3d": [
           {
            "colorbar": {
             "outlinewidth": 0,
             "ticks": ""
            },
            "type": "mesh3d"
           }
          ],
          "parcoords": [
           {
            "line": {
             "colorbar": {
              "outlinewidth": 0,
              "ticks": ""
             }
            },
            "type": "parcoords"
           }
          ],
          "pie": [
           {
            "automargin": true,
            "type": "pie"
           }
          ],
          "scatter": [
           {
            "fillpattern": {
             "fillmode": "overlay",
             "size": 10,
             "solidity": 0.2
            },
            "type": "scatter"
           }
          ],
          "scatter3d": [
           {
            "line": {
             "colorbar": {
              "outlinewidth": 0,
              "ticks": ""
             }
            },
            "marker": {
             "colorbar": {
              "outlinewidth": 0,
              "ticks": ""
             }
            },
            "type": "scatter3d"
           }
          ],
          "scattercarpet": [
           {
            "marker": {
             "colorbar": {
              "outlinewidth": 0,
              "ticks": ""
             }
            },
            "type": "scattercarpet"
           }
          ],
          "scattergeo": [
           {
            "marker": {
             "colorbar": {
              "outlinewidth": 0,
              "ticks": ""
             }
            },
            "type": "scattergeo"
           }
          ],
          "scattergl": [
           {
            "marker": {
             "colorbar": {
              "outlinewidth": 0,
              "ticks": ""
             }
            },
            "type": "scattergl"
           }
          ],
          "scattermapbox": [
           {
            "marker": {
             "colorbar": {
              "outlinewidth": 0,
              "ticks": ""
             }
            },
            "type": "scattermapbox"
           }
          ],
          "scatterpolar": [
           {
            "marker": {
             "colorbar": {
              "outlinewidth": 0,
              "ticks": ""
             }
            },
            "type": "scatterpolar"
           }
          ],
          "scatterpolargl": [
           {
            "marker": {
             "colorbar": {
              "outlinewidth": 0,
              "ticks": ""
             }
            },
            "type": "scatterpolargl"
           }
          ],
          "scatterternary": [
           {
            "marker": {
             "colorbar": {
              "outlinewidth": 0,
              "ticks": ""
             }
            },
            "type": "scatterternary"
           }
          ],
          "surface": [
           {
            "colorbar": {
             "outlinewidth": 0,
             "ticks": ""
            },
            "colorscale": [
             [
              0,
              "#0d0887"
             ],
             [
              0.1111111111111111,
              "#46039f"
             ],
             [
              0.2222222222222222,
              "#7201a8"
             ],
             [
              0.3333333333333333,
              "#9c179e"
             ],
             [
              0.4444444444444444,
              "#bd3786"
             ],
             [
              0.5555555555555556,
              "#d8576b"
             ],
             [
              0.6666666666666666,
              "#ed7953"
             ],
             [
              0.7777777777777778,
              "#fb9f3a"
             ],
             [
              0.8888888888888888,
              "#fdca26"
             ],
             [
              1,
              "#f0f921"
             ]
            ],
            "type": "surface"
           }
          ],
          "table": [
           {
            "cells": {
             "fill": {
              "color": "#EBF0F8"
             },
             "line": {
              "color": "white"
             }
            },
            "header": {
             "fill": {
              "color": "#C8D4E3"
             },
             "line": {
              "color": "white"
             }
            },
            "type": "table"
           }
          ]
         },
         "layout": {
          "annotationdefaults": {
           "arrowcolor": "#2a3f5f",
           "arrowhead": 0,
           "arrowwidth": 1
          },
          "autotypenumbers": "strict",
          "coloraxis": {
           "colorbar": {
            "outlinewidth": 0,
            "ticks": ""
           }
          },
          "colorscale": {
           "diverging": [
            [
             0,
             "#8e0152"
            ],
            [
             0.1,
             "#c51b7d"
            ],
            [
             0.2,
             "#de77ae"
            ],
            [
             0.3,
             "#f1b6da"
            ],
            [
             0.4,
             "#fde0ef"
            ],
            [
             0.5,
             "#f7f7f7"
            ],
            [
             0.6,
             "#e6f5d0"
            ],
            [
             0.7,
             "#b8e186"
            ],
            [
             0.8,
             "#7fbc41"
            ],
            [
             0.9,
             "#4d9221"
            ],
            [
             1,
             "#276419"
            ]
           ],
           "sequential": [
            [
             0,
             "#0d0887"
            ],
            [
             0.1111111111111111,
             "#46039f"
            ],
            [
             0.2222222222222222,
             "#7201a8"
            ],
            [
             0.3333333333333333,
             "#9c179e"
            ],
            [
             0.4444444444444444,
             "#bd3786"
            ],
            [
             0.5555555555555556,
             "#d8576b"
            ],
            [
             0.6666666666666666,
             "#ed7953"
            ],
            [
             0.7777777777777778,
             "#fb9f3a"
            ],
            [
             0.8888888888888888,
             "#fdca26"
            ],
            [
             1,
             "#f0f921"
            ]
           ],
           "sequentialminus": [
            [
             0,
             "#0d0887"
            ],
            [
             0.1111111111111111,
             "#46039f"
            ],
            [
             0.2222222222222222,
             "#7201a8"
            ],
            [
             0.3333333333333333,
             "#9c179e"
            ],
            [
             0.4444444444444444,
             "#bd3786"
            ],
            [
             0.5555555555555556,
             "#d8576b"
            ],
            [
             0.6666666666666666,
             "#ed7953"
            ],
            [
             0.7777777777777778,
             "#fb9f3a"
            ],
            [
             0.8888888888888888,
             "#fdca26"
            ],
            [
             1,
             "#f0f921"
            ]
           ]
          },
          "colorway": [
           "#636efa",
           "#EF553B",
           "#00cc96",
           "#ab63fa",
           "#FFA15A",
           "#19d3f3",
           "#FF6692",
           "#B6E880",
           "#FF97FF",
           "#FECB52"
          ],
          "font": {
           "color": "#2a3f5f"
          },
          "geo": {
           "bgcolor": "white",
           "lakecolor": "white",
           "landcolor": "#E5ECF6",
           "showlakes": true,
           "showland": true,
           "subunitcolor": "white"
          },
          "hoverlabel": {
           "align": "left"
          },
          "hovermode": "closest",
          "mapbox": {
           "style": "light"
          },
          "paper_bgcolor": "white",
          "plot_bgcolor": "#E5ECF6",
          "polar": {
           "angularaxis": {
            "gridcolor": "white",
            "linecolor": "white",
            "ticks": ""
           },
           "bgcolor": "#E5ECF6",
           "radialaxis": {
            "gridcolor": "white",
            "linecolor": "white",
            "ticks": ""
           }
          },
          "scene": {
           "xaxis": {
            "backgroundcolor": "#E5ECF6",
            "gridcolor": "white",
            "gridwidth": 2,
            "linecolor": "white",
            "showbackground": true,
            "ticks": "",
            "zerolinecolor": "white"
           },
           "yaxis": {
            "backgroundcolor": "#E5ECF6",
            "gridcolor": "white",
            "gridwidth": 2,
            "linecolor": "white",
            "showbackground": true,
            "ticks": "",
            "zerolinecolor": "white"
           },
           "zaxis": {
            "backgroundcolor": "#E5ECF6",
            "gridcolor": "white",
            "gridwidth": 2,
            "linecolor": "white",
            "showbackground": true,
            "ticks": "",
            "zerolinecolor": "white"
           }
          },
          "shapedefaults": {
           "line": {
            "color": "#2a3f5f"
           }
          },
          "ternary": {
           "aaxis": {
            "gridcolor": "white",
            "linecolor": "white",
            "ticks": ""
           },
           "baxis": {
            "gridcolor": "white",
            "linecolor": "white",
            "ticks": ""
           },
           "bgcolor": "#E5ECF6",
           "caxis": {
            "gridcolor": "white",
            "linecolor": "white",
            "ticks": ""
           }
          },
          "title": {
           "x": 0.05
          },
          "xaxis": {
           "automargin": true,
           "gridcolor": "white",
           "linecolor": "white",
           "ticks": "",
           "title": {
            "standoff": 15
           },
           "zerolinecolor": "white",
           "zerolinewidth": 2
          },
          "yaxis": {
           "automargin": true,
           "gridcolor": "white",
           "linecolor": "white",
           "ticks": "",
           "title": {
            "standoff": 15
           },
           "zerolinecolor": "white",
           "zerolinewidth": 2
          }
         }
        },
        "xaxis": {
         "anchor": "y",
         "domain": [
          0,
          1
         ],
         "title": {
          "text": "Nome_Departamento"
         }
        },
        "yaxis": {
         "anchor": "x",
         "domain": [
          0,
          1
         ],
         "title": {
          "text": "Preço_com_frete"
         }
        }
       }
      }
     },
     "metadata": {},
     "output_type": "display_data"
    }
   ],
   "source": [
    "# Gráfico de barras plotly - Média de preço com frete por departamento\n",
    "px.bar(agg_dept_preco, x=\"Nome_Departamento\", y=\"Preço_com_frete\")\n"
   ]
  }
 ],
 "metadata": {
  "kernelspec": {
   "display_name": "Python 3",
   "language": "python",
   "name": "python3"
  },
  "language_info": {
   "codemirror_mode": {
    "name": "ipython",
    "version": 3
   },
   "file_extension": ".py",
   "mimetype": "text/x-python",
   "name": "python",
   "nbconvert_exporter": "python",
   "pygments_lexer": "ipython3",
   "version": "3.12.2"
  }
 },
 "nbformat": 4,
 "nbformat_minor": 2
}
